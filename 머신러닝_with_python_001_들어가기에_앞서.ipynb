{
  "nbformat": 4,
  "nbformat_minor": 0,
  "metadata": {
    "colab": {
      "provenance": [],
      "authorship_tag": "ABX9TyMrLQkQZePtrOp/ZOriesS5",
      "include_colab_link": true
    },
    "kernelspec": {
      "name": "python3",
      "display_name": "Python 3"
    },
    "language_info": {
      "name": "python"
    }
  },
  "cells": [
    {
      "cell_type": "markdown",
      "metadata": {
        "id": "view-in-github",
        "colab_type": "text"
      },
      "source": [
        "<a href=\"https://colab.research.google.com/github/ehpub/ML-with-Python/blob/main/%EB%A8%B8%EC%8B%A0%EB%9F%AC%EB%8B%9D_with_python_001_%EB%93%A4%EC%96%B4%EA%B0%80%EA%B8%B0%EC%97%90_%EC%95%9E%EC%84%9C.ipynb\" target=\"_parent\"><img src=\"https://colab.research.google.com/assets/colab-badge.svg\" alt=\"Open In Colab\"/></a>"
      ]
    },
    {
      "cell_type": "markdown",
      "source": [
        "[설명](https://ehclub.net/744)"
      ],
      "metadata": {
        "id": "yYckIV4KLIhd"
      }
    },
    {
      "cell_type": "markdown",
      "source": [
        "## 머신러닝 기본 절차\n",
        "\n",
        "- 데이터 수집\n",
        "\n",
        "- 데이터 전처리\n",
        "\n",
        "- 모델링 (데이터 학습)\n",
        "\n",
        "- 평가"
      ],
      "metadata": {
        "id": "xqPf0C7Iq2Gq"
      }
    },
    {
      "cell_type": "markdown",
      "source": [
        "## 머신러닝 알고리즘에 따른 모델 종류\n",
        "\n",
        "- 선형 회귀\n",
        "\n",
        "- KNN\n",
        "\n",
        "- 로지스틱 회귀\n",
        "\n",
        "- 결정 트리\n",
        "\n",
        "- 서프트 벡터 머신\n",
        "\n",
        "- KMeans\n",
        "\n",
        "- 앙상블\n"
      ],
      "metadata": {
        "id": "YeoN9Xx1ykXZ"
      }
    },
    {
      "cell_type": "markdown",
      "source": [
        "## 머신러닝 작업에 따른 모델 종류\n",
        "\n",
        "- 회귀 모델\n",
        "\n",
        "- 분류 모델\n",
        "\n",
        "- 텍스트 분석\n",
        "\n",
        "- 군집화 모델\n",
        "\n",
        "- 차원 축소\n",
        "\n",
        "- 강화 학습"
      ],
      "metadata": {
        "id": "l3KO5Mjsz6GQ"
      }
    }
  ]
}