{
  "nbformat": 4,
  "nbformat_minor": 0,
  "metadata": {
    "colab": {
      "provenance": [],
      "authorship_tag": "ABX9TyMU0O3gG4b1k8SRU7A0Ob10",
      "include_colab_link": true
    },
    "kernelspec": {
      "name": "python3",
      "display_name": "Python 3"
    },
    "language_info": {
      "name": "python"
    }
  },
  "cells": [
    {
      "cell_type": "markdown",
      "metadata": {
        "id": "view-in-github",
        "colab_type": "text"
      },
      "source": [
        "<a href=\"https://colab.research.google.com/github/ehpub/ML-with-Python/blob/main/%EB%A8%B8%EC%8B%A0%EB%9F%AC%EB%8B%9D_with_python_008_%EC%84%A0%ED%98%95_%EB%AA%A8%EB%8D%B8%EB%A1%9C_%EB%B6%84%EB%A5%98_LogisticRegression.ipynb\" target=\"_parent\"><img src=\"https://colab.research.google.com/assets/colab-badge.svg\" alt=\"Open In Colab\"/></a>"
      ]
    },
    {
      "cell_type": "markdown",
      "source": [
        "[설명](https://ehpub.co.kr/%ec%84%a0%ed%98%95-%eb%b6%84%eb%a5%98-%eb%aa%a8%eb%8d%b8-logisticregression-%eb%a8%b8%ec%8b%a0%eb%9f%ac%eb%8b%9d-with-%ed%8c%8c%ec%9d%b4%ec%8d%ac/)"
      ],
      "metadata": {
        "id": "LsKODEaaKnWe"
      }
    },
    {
      "cell_type": "markdown",
      "source": [
        "## 로지스틱 회귀\n",
        "\n",
        "모델 이름에 회귀가 들어있지만 분류 문제에 사용하는 분류 모델입니다.\n"
      ],
      "metadata": {
        "id": "xYFQXudd3TRo"
      }
    },
    {
      "cell_type": "code",
      "execution_count": 5,
      "metadata": {
        "id": "rYD3Dvt93Ico"
      },
      "outputs": [],
      "source": [
        "from sklearn.linear_model import LogisticRegression #로지스틱 회귀\n",
        "from sklearn.linear_model import LinearRegression #선형 회귀\n",
        "from sklearn.datasets import load_iris #붓꽃 데이터 로드\n",
        "\n",
        "from sklearn.model_selection import train_test_split #학습 및 테스트 데이터 분리\n",
        "from sklearn.metrics import accuracy_score #적합도(분류)\n",
        "from sklearn.model_selection import cross_val_score #교차 검증 점수\n",
        "\n",
        "import numpy as np\n",
        "import pandas as pd\n",
        "import matplotlib.pyplot as plt"
      ]
    },
    {
      "cell_type": "code",
      "source": [
        "def sigmoid(x):\n",
        "  return 1/(1+np.exp(-x))"
      ],
      "metadata": {
        "id": "8hRVwMLnBTvZ"
      },
      "execution_count": 3,
      "outputs": []
    },
    {
      "cell_type": "code",
      "source": [
        "data = np.arange(-7,7,0.2)\n",
        "target = [sigmoid(x) for x in data]\n",
        "plt.plot(data,target)\n",
        "plt.axvline(x=0,color='k')\n",
        "plt.axhline(y=0,color='k')\n",
        "plt.axhline(y=0.5,color='k',linestyle=':')\n",
        "plt.axhline(y=1,color='k',linestyle=':')\n",
        "plt.ylim(0,1.1)\n",
        "plt.title(\"sigmoid function\")\n",
        "plt.show()"
      ],
      "metadata": {
        "colab": {
          "base_uri": "https://localhost:8080/",
          "height": 452
        },
        "id": "Efe3JjhwBYHZ",
        "outputId": "398e4d0f-7c90-4b3a-f83f-e19f5974ef11"
      },
      "execution_count": 15,
      "outputs": [
        {
          "output_type": "display_data",
          "data": {
            "text/plain": [
              "<Figure size 640x480 with 1 Axes>"
            ],
            "image/png": "[encoded data removed]"
          },
          "metadata": {}
        }
      ]
    },
    {
      "cell_type": "markdown",
      "source": [
        "## 로지스틱 회귀 사용 예"
      ],
      "metadata": {
        "id": "7dvNHe8gDDPa"
      }
    },
    {
      "cell_type": "code",
      "source": [
        "iris = load_iris()\n",
        "data = iris.data\n",
        "target = iris.target"
      ],
      "metadata": {
        "id": "VkGTTAw-3rpX"
      },
      "execution_count": 16,
      "outputs": []
    },
    {
      "cell_type": "code",
      "source": [
        "x_train,x_test, y_train,y_test = train_test_split(data,target)"
      ],
      "metadata": {
        "id": "RZgrgfMA4JNQ"
      },
      "execution_count": 20,
      "outputs": []
    },
    {
      "cell_type": "code",
      "source": [
        "model = LogisticRegression(max_iter=5000)\n",
        "model.fit(x_train,y_train)\n",
        "pred_train = model.predict(x_train)\n",
        "pred_test = model.predict(x_test)\n",
        "print(\"학습 데이터 적합도:\",accuracy_score(y_train,pred_train))\n",
        "print(\"테스트 데이터 적합도:\",accuracy_score(y_test,pred_test))"
      ],
      "metadata": {
        "colab": {
          "base_uri": "https://localhost:8080/"
        },
        "id": "NPgWKW6x320Y",
        "outputId": "344d0e41-fff6-4a1a-d946-e158574e6228"
      },
      "execution_count": 21,
      "outputs": [
        {
          "output_type": "stream",
          "name": "stdout",
          "text": [
            "학습 데이터 적합도: 0.9821428571428571\n",
            "테스트 데이터 적합도: 0.8947368421052632\n"
          ]
        }
      ]
    },
    {
      "cell_type": "code",
      "source": [
        "pred_testa = model.predict_proba(x_test)\n",
        "print(y_test[0], np.round(pred_testa[0],4))"
      ],
      "metadata": {
        "colab": {
          "base_uri": "https://localhost:8080/"
        },
        "id": "WD9H9bXe7GBw",
        "outputId": "275af1d0-97bf-433d-a1a4-56d6b408cc87"
      },
      "execution_count": 22,
      "outputs": [
        {
          "output_type": "stream",
          "name": "stdout",
          "text": [
            "0 [0.9676 0.0324 0.    ]\n"
          ]
        }
      ]
    },
    {
      "cell_type": "markdown",
      "source": [
        "## 선형 회귀 모델을 이용한 이진 분류기 만들기"
      ],
      "metadata": {
        "id": "JxzQNGe7J9Nn"
      }
    },
    {
      "cell_type": "code",
      "source": [
        "iris = load_iris()\n",
        "data = iris.data\n",
        "target = [1]*50+[0]*100"
      ],
      "metadata": {
        "id": "Z0bmwET_G7zv"
      },
      "execution_count": null,
      "outputs": []
    },
    {
      "cell_type": "code",
      "source": [
        "x_train,x_test, y_train,y_test = train_test_split(data,target)"
      ],
      "metadata": {
        "id": "z5L4X8FLHHaV"
      },
      "execution_count": null,
      "outputs": []
    },
    {
      "cell_type": "code",
      "source": [
        "model = LogisticRegression()\n",
        "model.fit(x_train,y_train)\n",
        "pred_train = model.predict(x_train)\n",
        "pred_test = model.predict(x_test)\n",
        "print(\"학습 데이터 적합도:\",accuracy_score(y_train,pred_train))\n",
        "print(\"테스트 데이터 적합도:\",accuracy_score(y_test,pred_test))"
      ],
      "metadata": {
        "colab": {
          "base_uri": "https://localhost:8080/"
        },
        "id": "gTR1dLvzIu4m",
        "outputId": "40e30e9d-10f0-498a-a089-02e66890b535"
      },
      "execution_count": null,
      "outputs": [
        {
          "output_type": "stream",
          "name": "stdout",
          "text": [
            "학습 데이터 적합도: 1.0\n",
            "테스트 데이터 적합도: 1.0\n"
          ]
        }
      ]
    },
    {
      "cell_type": "code",
      "source": [
        "pred_test_proba = model.predict_proba(x_test)\n",
        "print(y_test[0], np.round(pred_test_proba[0],4))"
      ],
      "metadata": {
        "colab": {
          "base_uri": "https://localhost:8080/"
        },
        "id": "nsuwVliqKNcv",
        "outputId": "a2b573ae-7b31-406d-ae82-6ec0f688a049"
      },
      "execution_count": null,
      "outputs": [
        {
          "output_type": "stream",
          "name": "stdout",
          "text": [
            "1 [0.0273 0.9727]\n"
          ]
        }
      ]
    },
    {
      "cell_type": "code",
      "source": [
        "class BinaryClassifier:\n",
        "  def __init__(self):\n",
        "    self.model = LinearRegression()\n",
        "  def sigmoid(self,x):\n",
        "    return 1/(1+np.exp(-x))\n",
        "  def fit(self,x,y):\n",
        "    y = np.array(y)\n",
        "    y = (y*20)-10 #0은 -10, 1은 10으로 변환\n",
        "    self.model.fit(x,y)\n",
        "  def predict(self,x):\n",
        "    re = self.model.predict(x)\n",
        "    return (self.sigmoid(re)>=0.5).astype(int)\n",
        "  def predict_proba(self,x):\n",
        "    re1 = self.sigmoid(self.model.predict(x))\n",
        "    re2 = 1- re1\n",
        "    return np.stack([re2,re1],axis=1)"
      ],
      "metadata": {
        "id": "LPQNuYVkGK6O"
      },
      "execution_count": null,
      "outputs": []
    },
    {
      "cell_type": "code",
      "source": [
        "model = BinaryClassifier()\n",
        "model.fit(x_train,y_train)\n",
        "pred_train = model.predict(x_train)\n",
        "pred_test = model.predict(x_test)\n",
        "print(\"학습 데이터 적합도:\",accuracy_score(y_train,pred_train))\n",
        "print(\"테스트 데이터 적합도:\",accuracy_score(y_test,pred_test))"
      ],
      "metadata": {
        "colab": {
          "base_uri": "https://localhost:8080/"
        },
        "id": "MPBkXWyyHBL9",
        "outputId": "dad90745-8f66-43b9-9327-59c7e5f6a80c"
      },
      "execution_count": null,
      "outputs": [
        {
          "output_type": "stream",
          "name": "stdout",
          "text": [
            "학습 데이터 적합도: 1.0\n",
            "테스트 데이터 적합도: 1.0\n"
          ]
        }
      ]
    },
    {
      "cell_type": "code",
      "source": [
        "pred_test_proba = model.predict_proba(x_test)\n",
        "print(y_test[0], np.round(pred_test_proba[0],4))"
      ],
      "metadata": {
        "colab": {
          "base_uri": "https://localhost:8080/"
        },
        "id": "EUFUPSYGKtnP",
        "outputId": "318e3929-6585-4193-877a-16452fe616c3"
      },
      "execution_count": null,
      "outputs": [
        {
          "output_type": "stream",
          "name": "stdout",
          "text": [
            "1 [0.0013 0.9987]\n"
          ]
        }
      ]
    },
    {
      "cell_type": "code",
      "source": [
        "def binary_cross_entropy(pred, y):\n",
        "  return -(pred.log()*y + (1-y)*(1-pred).log()).mean()"
      ],
      "metadata": {
        "id": "ItllZQUH6Oa_"
      },
      "execution_count": null,
      "outputs": []
    },
    {
      "cell_type": "code",
      "source": [],
      "metadata": {
        "id": "ccHJfGMDJQxO"
      },
      "execution_count": null,
      "outputs": []
    }
  ]
}