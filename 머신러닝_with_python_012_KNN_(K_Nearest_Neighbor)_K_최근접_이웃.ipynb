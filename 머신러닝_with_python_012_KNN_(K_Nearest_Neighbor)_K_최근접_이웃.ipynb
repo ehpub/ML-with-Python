{
  "nbformat": 4,
  "nbformat_minor": 0,
  "metadata": {
    "colab": {
      "provenance": [],
      "authorship_tag": "ABX9TyPpjcm79YDppKsphmjGD0g/",
      "include_colab_link": true
    },
    "kernelspec": {
      "name": "python3",
      "display_name": "Python 3"
    },
    "language_info": {
      "name": "python"
    }
  },
  "cells": [
    {
      "cell_type": "markdown",
      "metadata": {
        "id": "view-in-github",
        "colab_type": "text"
      },
      "source": [
        "<a href=\"https://colab.research.google.com/github/ehpub/ML-with-Python/blob/main/%EB%A8%B8%EC%8B%A0%EB%9F%AC%EB%8B%9D_with_python_012_KNN_(K_Nearest_Neighbor)_K_%EC%B5%9C%EA%B7%BC%EC%A0%91_%EC%9D%B4%EC%9B%83.ipynb\" target=\"_parent\"><img src=\"https://colab.research.google.com/assets/colab-badge.svg\" alt=\"Open In Colab\"/></a>"
      ]
    },
    {
      "cell_type": "markdown",
      "source": [
        "[설명](https://ehpub.co.kr/knn-k-nearest-neighbor-k-%ec%b5%9c%ea%b7%bc%ec%a0%91-%ec%9d%b4-%eb%a8%b8%ec%8b%a0%eb%9f%ac%eb%8b%9d-with-python/)"
      ],
      "metadata": {
        "id": "sp-cIdQ2tfqJ"
      }
    },
    {
      "cell_type": "code",
      "execution_count": 2,
      "metadata": {
        "id": "pgoa4dHzAUeQ"
      },
      "outputs": [],
      "source": [
        "from sklearn.neighbors import KNeighborsRegressor #K 최근접 이웃 회귀\n",
        "from sklearn.neighbors import KNeighborsClassifier #K 최근접 이웃 분류\n",
        "from sklearn.base import BaseEstimator #기반 모델\n",
        "\n",
        "from sklearn.model_selection import train_test_split #학습 및 테스트 데이터 분리\n",
        "from sklearn.preprocessing import MinMaxScaler #MIN-MAX 스케일 변환\n",
        "\n",
        "from sklearn.metrics import r2_score #r2\n",
        "from sklearn.metrics import accuracy_score #accuracy\n",
        "\n",
        "from sklearn.datasets import load_iris #붓꽃 데이터\n",
        "from sklearn.datasets import load_breast_cancer #유방암 데이터\n",
        "\n",
        "import numpy as np\n",
        "import pandas as pd\n",
        "import matplotlib.pyplot as plt"
      ]
    },
    {
      "cell_type": "code",
      "source": [
        "class KNNReg(BaseEstimator):\n",
        "  def __init__(self,k=5):\n",
        "    super().__init__()\n",
        "    self.k = k\n",
        "  @classmethod\n",
        "  def distance(cls,x1,x2):\n",
        "    return np.sqrt(sum((x1-x2)**2))\n",
        "  def fit(self,train_x,train_y):\n",
        "    self.train_x = train_x.copy()\n",
        "    self.train_y = train_y.copy()\n",
        "  def find_kneighbor(self,tx):\n",
        "    dis_arr = []\n",
        "    for i,x in enumerate(self.train_x):\n",
        "      dis_arr.append((KNNReg.distance(x,tx),i))\n",
        "    dis_arr.sort(key = lambda x:x[0])\n",
        "    kindex = min(self.k,len(dis_arr))\n",
        "    kneighbor = [x[1] for x in dis_arr[:kindex]]\n",
        "    return sum(self.train_y[kneighbor])\n",
        "  def predict(self,test_x):\n",
        "    result = []\n",
        "    for tx in test_x:\n",
        "      result.append(self.find_kneighbor(tx)/self.k)#이웃의 평균\n",
        "    return result"
      ],
      "metadata": {
        "id": "gacMeVZBf59M"
      },
      "execution_count": 3,
      "outputs": []
    },
    {
      "cell_type": "code",
      "source": [
        "iris = load_iris()\n",
        "data = iris['data'][:50,[0]] #독립 변수 - sepal length\n",
        "target = iris['data'][:50,[1]] #종속 변수 - sepal width\n",
        "\n",
        "x_train,x_test,y_train,y_test = train_test_split(data,target)"
      ],
      "metadata": {
        "id": "oFyTqv0tgna6"
      },
      "execution_count": 4,
      "outputs": []
    },
    {
      "cell_type": "code",
      "source": [
        "model1 = KNNReg()\n",
        "model2 = KNeighborsRegressor()\n",
        "for model in [model1,model2]:\n",
        "  print(model.__class__.__name__,\"###\")\n",
        "  model.fit(x_train,y_train)\n",
        "  pred = model.predict(x_test)\n",
        "  print(\"r2:\",r2_score(y_test,pred))"
      ],
      "metadata": {
        "colab": {
          "base_uri": "https://localhost:8080/"
        },
        "id": "hnjUDg32ilpp",
        "outputId": "efaf0776-587a-4c88-8efd-c0770ff03bb8"
      },
      "execution_count": 5,
      "outputs": [
        {
          "output_type": "stream",
          "name": "stdout",
          "text": [
            "KNNReg ###\n",
            "r2: 0.09918918918918906\n",
            "KNeighborsRegressor ###\n",
            "r2: 0.09918918918918918\n"
          ]
        }
      ]
    },
    {
      "cell_type": "code",
      "source": [
        "class KNNCls(BaseEstimator):\n",
        "  def __init__(self,k=5):\n",
        "    super().__init__()\n",
        "    self.k = k\n",
        "  @classmethod\n",
        "  def distance(cls,x1,x2):\n",
        "    return np.sqrt(sum((x1-x2)**2))\n",
        "  def fit(self,train_x,train_y):\n",
        "    self.train_x = train_x.copy()\n",
        "    self.train_y = train_y.copy()\n",
        "    self.class_cnt = len(np.unique(train_y))\n",
        "  def find_kneighbor(self,tx):\n",
        "    dis_arr = []\n",
        "    for i,x in enumerate(self.train_x):\n",
        "      dis_arr.append((KNNReg.distance(x,tx),i))\n",
        "    dis_arr.sort(key = lambda x:x[0])\n",
        "    kindex = min(self.k,len(dis_arr))\n",
        "    kneighbor = [x[1] for x in dis_arr[:kindex]]\n",
        "    return (self.train_y[kneighbor])\n",
        "  def predict(self,test_x):\n",
        "    tl = len(test_x)\n",
        "    result = []\n",
        "    for tx in test_x:\n",
        "      re = self.find_kneighbor(tx)\n",
        "      re,cnt = np.unique(re,return_counts=True)\n",
        "      idx = np.argsort(cnt)\n",
        "      result.append(re[idx[-1]])\n",
        "    return np.array(result)\n",
        "  def predict_proba(self,test_x):\n",
        "    result = []\n",
        "    for tx in test_x:\n",
        "      re = self.find_kneighbor(tx)\n",
        "      re,cnt = np.unique(re,return_counts=True)\n",
        "      trr =np.zeros(self.class_cnt)\n",
        "      for i,r1 in enumerate(cnt):\n",
        "        trr[re[i]] = (cnt[i]/self.k)\n",
        "        print(cnt[i],self.k)\n",
        "      result.append(trr)\n",
        "    return np.array(result)"
      ],
      "metadata": {
        "id": "9BSxUhaditob"
      },
      "execution_count": 46,
      "outputs": []
    },
    {
      "cell_type": "code",
      "source": [
        "data = iris['data']\n",
        "target = iris['target']\n",
        "x_train,x_test,y_train,y_test = train_test_split(data,target)"
      ],
      "metadata": {
        "id": "GkfHl-F3nSXg"
      },
      "execution_count": 34,
      "outputs": []
    },
    {
      "cell_type": "code",
      "source": [
        "model1 = KNNCls()\n",
        "model2 = KNeighborsClassifier()\n",
        "for model in [model1,model2]:\n",
        "  print(model.__class__.__name__,\"###\")\n",
        "  model.fit(x_train,y_train)\n",
        "  pred = model.predict(x_test)\n",
        "  print(\"accuracy:\",accuracy_score(y_test,pred))\n",
        "  plt.plot(y_test,'ro',label='actual')\n",
        "  plt.plot(pred,'b.',label='predict')\n",
        "  plt.legend()\n",
        "  plt.title(model.__class__.__name__)\n",
        "  plt.show()"
      ],
      "metadata": {
        "colab": {
          "base_uri": "https://localhost:8080/",
          "height": 961
        },
        "id": "MOZiFveuneIQ",
        "outputId": "7b603090-d2d3-4fb5-93a2-d2552ab93306"
      },
      "execution_count": 39,
      "outputs": [
        {
          "output_type": "stream",
          "name": "stdout",
          "text": [
            "KNNCls ###\n",
            "accuracy: 1.0\n"
          ]
        },
        {
          "output_type": "display_data",
          "data": {
            "text/plain": [
              "<Figure size 640x480 with 1 Axes>"
            ],
            "image/png": "[encoded data removed]"
          },
          "metadata": {}
        },
        {
          "output_type": "stream",
          "name": "stdout",
          "text": [
            "KNeighborsClassifier ###\n",
            "accuracy: 1.0\n"
          ]
        },
        {
          "output_type": "display_data",
          "data": {
            "text/plain": [
              "<Figure size 640x480 with 1 Axes>"
            ],
            "image/png": "[encoded data removed]"
          },
          "metadata": {}
        }
      ]
    },
    {
      "cell_type": "code",
      "source": [
        "model = KNNCls()\n",
        "model.fit(x_train,y_train)\n",
        "pred_proba = model.predict_proba(x_test)"
      ],
      "metadata": {
        "colab": {
          "base_uri": "https://localhost:8080/"
        },
        "id": "XDnLoBCjoWQB",
        "outputId": "340ac8c7-1c27-47ad-c90f-5ec0a4c1d75a"
      },
      "execution_count": 47,
      "outputs": [
        {
          "output_type": "stream",
          "name": "stdout",
          "text": [
            "5 5\n",
            "5 5\n",
            "5 5\n",
            "5 5\n",
            "5 5\n",
            "1 5\n",
            "4 5\n",
            "5 5\n",
            "2 5\n",
            "3 5\n",
            "5 5\n",
            "5 5\n",
            "5 5\n",
            "5 5\n",
            "5 5\n",
            "5 5\n",
            "5 5\n",
            "5 5\n",
            "2 5\n",
            "3 5\n",
            "5 5\n",
            "5 5\n",
            "5 5\n",
            "2 5\n",
            "3 5\n",
            "5 5\n",
            "5 5\n",
            "5 5\n",
            "5 5\n",
            "5 5\n",
            "5 5\n",
            "5 5\n",
            "5 5\n",
            "5 5\n",
            "5 5\n",
            "1 5\n",
            "4 5\n",
            "5 5\n",
            "5 5\n",
            "5 5\n",
            "4 5\n",
            "1 5\n",
            "5 5\n",
            "1 5\n",
            "4 5\n"
          ]
        }
      ]
    },
    {
      "cell_type": "code",
      "source": [
        "print(pred_proba[:10])"
      ],
      "metadata": {
        "colab": {
          "base_uri": "https://localhost:8080/"
        },
        "id": "LhMnsDtep0cg",
        "outputId": "ccb9b861-15a5-4ae5-aad4-0ea615368624"
      },
      "execution_count": 49,
      "outputs": [
        {
          "output_type": "stream",
          "name": "stdout",
          "text": [
            "[[0.  1.  0. ]\n",
            " [1.  0.  0. ]\n",
            " [0.  1.  0. ]\n",
            " [0.  1.  0. ]\n",
            " [0.  1.  0. ]\n",
            " [0.  0.2 0.8]\n",
            " [0.  0.  1. ]\n",
            " [0.  0.4 0.6]\n",
            " [0.  1.  0. ]\n",
            " [1.  0.  0. ]]\n"
          ]
        }
      ]
    },
    {
      "cell_type": "code",
      "source": [
        "bc = load_breast_cancer()\n",
        "data = bc['data']\n",
        "target = bc['target']\n",
        "x_train,x_test,y_train,y_test = train_test_split(data,target)"
      ],
      "metadata": {
        "id": "5jgZv3qyvCxo"
      },
      "execution_count": 11,
      "outputs": []
    },
    {
      "cell_type": "code",
      "source": [
        "mms = MinMaxScaler()\n",
        "scaled_data = mms.fit_transform(data)\n",
        "xs_train,xs_test,ys_train,ys_test = train_test_split(scaled_data,target)"
      ],
      "metadata": {
        "id": "hlSWeCWNwRB7"
      },
      "execution_count": 12,
      "outputs": []
    },
    {
      "cell_type": "code",
      "source": [
        "df1 = pd.DataFrame(data)\n",
        "print(df1.describe().loc[['min','mean','max']].iloc[:,:5])"
      ],
      "metadata": {
        "colab": {
          "base_uri": "https://localhost:8080/"
        },
        "id": "g0c9XfVqwgVu",
        "outputId": "414b27e4-5f0a-4adb-f41f-6aaef5a66fa2"
      },
      "execution_count": 13,
      "outputs": [
        {
          "output_type": "stream",
          "name": "stdout",
          "text": [
            "              0          1           2            3        4\n",
            "min    6.981000   9.710000   43.790000   143.500000  0.05263\n",
            "mean  14.127292  19.289649   91.969033   654.889104  0.09636\n",
            "max   28.110000  39.280000  188.500000  2501.000000  0.16340\n"
          ]
        }
      ]
    },
    {
      "cell_type": "code",
      "source": [
        "df2 = pd.DataFrame(scaled_data)\n",
        "print(df2.describe().loc[['min','mean','max']].iloc[:,:5])"
      ],
      "metadata": {
        "colab": {
          "base_uri": "https://localhost:8080/"
        },
        "id": "GKLyf1m1wmKE",
        "outputId": "b208b02b-458b-4f1d-fa00-cfa5d070859c"
      },
      "execution_count": 14,
      "outputs": [
        {
          "output_type": "stream",
          "name": "stdout",
          "text": [
            "             0         1         2        3         4\n",
            "min   0.000000  0.000000  0.000000  0.00000  0.000000\n",
            "mean  0.338222  0.323965  0.332935  0.21692  0.394785\n",
            "max   1.000000  1.000000  1.000000  1.00000  1.000000\n"
          ]
        }
      ]
    },
    {
      "cell_type": "code",
      "source": [
        "model1 = KNNCls()\n",
        "model2 = KNeighborsClassifier()\n",
        "for model in [model1,model2]:\n",
        "  print(model.__class__.__name__,\"###\")\n",
        "  model.fit(x_train,y_train)\n",
        "  pred = model.predict(x_test)\n",
        "  print(\"accuracy:\",accuracy_score(y_test,pred))"
      ],
      "metadata": {
        "colab": {
          "base_uri": "https://localhost:8080/"
        },
        "id": "ixJ1YgaGwOKK",
        "outputId": "90eb3050-714f-4501-f165-300949bf7f23"
      },
      "execution_count": 15,
      "outputs": [
        {
          "output_type": "stream",
          "name": "stdout",
          "text": [
            "KNNCls ###\n",
            "accuracy: 0.9370629370629371\n",
            "KNeighborsClassifier ###\n",
            "accuracy: 0.951048951048951\n"
          ]
        }
      ]
    },
    {
      "cell_type": "code",
      "source": [
        "model1 = KNNCls()\n",
        "model2 = KNeighborsClassifier()\n",
        "for model in [model1,model2]:\n",
        "  print(model.__class__.__name__,\"###\")\n",
        "  model.fit(xs_train,ys_train)\n",
        "  pred = model.predict(xs_test)\n",
        "  print(\"accuracy:\",accuracy_score(ys_test,pred))"
      ],
      "metadata": {
        "colab": {
          "base_uri": "https://localhost:8080/"
        },
        "id": "GeyWakLVwRyw",
        "outputId": "ae4a698d-cc51-48ec-ab65-f4579518b7bd"
      },
      "execution_count": 16,
      "outputs": [
        {
          "output_type": "stream",
          "name": "stdout",
          "text": [
            "KNNCls ###\n",
            "accuracy: 0.9440559440559441\n",
            "KNeighborsClassifier ###\n",
            "accuracy: 0.972027972027972\n"
          ]
        }
      ]
    },
    {
      "cell_type": "code",
      "source": [],
      "metadata": {
        "id": "e224AZ4CkoB6"
      },
      "execution_count": null,
      "outputs": []
    }
  ]
}