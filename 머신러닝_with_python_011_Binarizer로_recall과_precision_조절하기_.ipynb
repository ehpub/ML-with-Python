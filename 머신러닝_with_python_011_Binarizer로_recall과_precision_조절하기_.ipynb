{
  "nbformat": 4,
  "nbformat_minor": 0,
  "metadata": {
    "colab": {
      "provenance": [],
      "authorship_tag": "ABX9TyNWm4V+xCEzHJDIGB04WrUY",
      "include_colab_link": true
    },
    "kernelspec": {
      "name": "python3",
      "display_name": "Python 3"
    },
    "language_info": {
      "name": "python"
    }
  },
  "cells": [
    {
      "cell_type": "markdown",
      "metadata": {
        "id": "view-in-github",
        "colab_type": "text"
      },
      "source": [
        "<a href=\"https://colab.research.google.com/github/ehpub/ML-with-Python/blob/main/%EB%A8%B8%EC%8B%A0%EB%9F%AC%EB%8B%9D_with_python_011_Binarizer%EB%A1%9C_recall%EA%B3%BC_precision_%EC%A1%B0%EC%A0%88%ED%95%98%EA%B8%B0_.ipynb\" target=\"_parent\"><img src=\"https://colab.research.google.com/assets/colab-badge.svg\" alt=\"Open In Colab\"/></a>"
      ]
    },
    {
      "cell_type": "markdown",
      "source": [
        "[설명](https://ehpub.co.kr/binarizer%eb%a1%9c-recall%ea%b3%bc-precision-%ec%a1%b0%ec%a0%88%ed%95%98%ea%b8%b0-%eb%a8%b8%ec%8b%a0%eb%9f%ac%eb%8b%9d-with-python/)"
      ],
      "metadata": {
        "id": "guSIVuMf6tSr"
      }
    },
    {
      "cell_type": "markdown",
      "source": [
        "- 사용할 모듈 포함문"
      ],
      "metadata": {
        "id": "p_8ge56Bop80"
      }
    },
    {
      "cell_type": "code",
      "execution_count": 34,
      "metadata": {
        "id": "rW-MGfEJnc4C"
      },
      "outputs": [],
      "source": [
        "from sklearn.preprocessing import Binarizer #이항 변수화 변환\n",
        "from sklearn.metrics import recall_score #리콜(재현율, 민감도)\n",
        "from sklearn.metrics import precision_score #정밀도\n",
        "\n",
        "from sklearn.metrics import confusion_matrix #혼동 행렬\n",
        "from sklearn.metrics import accuracy_score #적합도\n",
        "from sklearn.metrics import f1_score #F1 점수\n",
        "\n",
        "from sklearn.datasets import load_breast_cancer #유방암 데이터\n",
        "from sklearn.linear_model import LogisticRegression #로지스틱 회귀\n",
        "from sklearn.model_selection import train_test_split #학습 및 테스트 데이터 분리\n",
        "from sklearn.preprocessing import MinMaxScaler\n",
        "\n",
        "import numpy as np\n",
        "import matplotlib.pyplot as plt"
      ]
    },
    {
      "cell_type": "markdown",
      "source": [
        "## 유방암 데이터 분류 작업 (이진 분류)"
      ],
      "metadata": {
        "id": "Ue-KgW2zotoN"
      }
    },
    {
      "cell_type": "code",
      "source": [
        "cancer = load_breast_cancer()\n",
        "data = cancer.data\n",
        "target = cancer.target\n",
        "x_train_org,x_test, y_train_org,y_test = train_test_split(data[:30000],target[:30000])\n",
        "x_train,x_val, y_train,y_val = train_test_split(x_train_org,y_train_org)\n",
        "print(y_train.shape, y_val.shape, y_test.shape)"
      ],
      "metadata": {
        "colab": {
          "base_uri": "https://localhost:8080/"
        },
        "id": "SwfFNx3mnohc",
        "outputId": "5e3a9c96-da98-4917-d55b-df5829af1ff2"
      },
      "execution_count": 8,
      "outputs": [
        {
          "output_type": "stream",
          "name": "stdout",
          "text": [
            "(319,) (107,) (143,)\n"
          ]
        }
      ]
    },
    {
      "cell_type": "code",
      "source": [
        "mms = MinMaxScaler()\n",
        "mms.fit(data)\n",
        "x_train_s = mms.transform(x_train)\n",
        "x_val_s = mms.transform(x_val)\n",
        "x_test_s = mms.transform(x_test)"
      ],
      "metadata": {
        "id": "SMeNqrE3pIvr"
      },
      "execution_count": 10,
      "outputs": []
    },
    {
      "cell_type": "code",
      "source": [
        "model = LogisticRegression() #로지스틱 회귀\n",
        "print(model.__class__.__name__,\"###\")\n",
        "model.fit(x_train_s,y_train)\n",
        "pred_train = model.predict(x_train_s)\n",
        "print(\"학습 데이터\")\n",
        "print(confusion_matrix(y_train,pred_train))\n",
        "print(f\"\\t적합도:{accuracy_score(y_train,pred_train):.2f}\")\n",
        "print(f\"\\t리콜:{recall_score(y_train,pred_train):.2f}\")\n",
        "print(f\"\\t정밀도:{precision_score(y_train,pred_train):.2f}\")\n",
        "\n",
        "pred_val = model.predict(x_val_s)\n",
        "print(\"검증 데이터\")\n",
        "print(confusion_matrix(y_val,pred_val))\n",
        "print(f\"\\t적합도:{accuracy_score(y_val,pred_val):.2f}\")\n",
        "print(f\"\\t리콜:{recall_score(y_val,pred_val):.2f}\")\n",
        "print(f\"\\t정밀도:{precision_score(y_val,pred_val):.2f}\")\n",
        "\n",
        "pred_test = model.predict(x_test_s)\n",
        "print(\"평가 데이터\")\n",
        "print(confusion_matrix(y_test,pred_test))\n",
        "print(f\"\\t적합도:{accuracy_score(y_test,pred_test):.2f}\")\n",
        "print(f\"\\t리콜:{recall_score(y_test,pred_test):.2f}\")\n",
        "print(f\"\\t정밀도:{precision_score(y_test,pred_test):.2f}\")"
      ],
      "metadata": {
        "colab": {
          "base_uri": "https://localhost:8080/"
        },
        "id": "gLS_cj5KpCEV",
        "outputId": "79c11a0b-1dff-4c5f-8f81-8678b481cd13"
      },
      "execution_count": 12,
      "outputs": [
        {
          "output_type": "stream",
          "name": "stdout",
          "text": [
            "LogisticRegression ###\n",
            "학습 데이터\n",
            "[[117   9]\n",
            " [  1 192]]\n",
            "\t적합도:0.97\n",
            "\t리콜:0.99\n",
            "\t정밀도:0.96\n",
            "검증 데이터\n",
            "[[34  2]\n",
            " [ 0 71]]\n",
            "\t적합도:0.98\n",
            "\t리콜:1.00\n",
            "\t정밀도:0.97\n",
            "평가 데이터\n",
            "[[47  3]\n",
            " [ 0 93]]\n",
            "\t적합도:0.98\n",
            "\t리콜:1.00\n",
            "\t정밀도:0.97\n"
          ]
        }
      ]
    },
    {
      "cell_type": "markdown",
      "source": [
        "## Binarizer"
      ],
      "metadata": {
        "id": "saa9IPnWpqyl"
      }
    },
    {
      "cell_type": "code",
      "source": [
        "dum_data = [ [round(value,1)] for value in np.arange(0.1,1.0,0.1)]\n",
        "print(\"data:\",dum_data)\n",
        "for th_value in [0.1, 0.3, 0.5, 0.7, 0.9]:\n",
        "  binarizer = Binarizer(threshold=th_value)\n",
        "  print(th_value,end=' : ')\n",
        "  result = binarizer.transform(dum_data)\n",
        "  print(result.tolist())"
      ],
      "metadata": {
        "colab": {
          "base_uri": "https://localhost:8080/"
        },
        "id": "KdAZN6TJpSyF",
        "outputId": "4932842a-3c3a-4944-b116-6fba013e07d9"
      },
      "execution_count": 25,
      "outputs": [
        {
          "output_type": "stream",
          "name": "stdout",
          "text": [
            "data: [[0.1], [0.2], [0.3], [0.4], [0.5], [0.6], [0.7], [0.8], [0.9]]\n",
            "0.1 : [[0.0], [1.0], [1.0], [1.0], [1.0], [1.0], [1.0], [1.0], [1.0]]\n",
            "0.3 : [[0.0], [0.0], [0.0], [1.0], [1.0], [1.0], [1.0], [1.0], [1.0]]\n",
            "0.5 : [[0.0], [0.0], [0.0], [0.0], [0.0], [1.0], [1.0], [1.0], [1.0]]\n",
            "0.7 : [[0.0], [0.0], [0.0], [0.0], [0.0], [0.0], [0.0], [1.0], [1.0]]\n",
            "0.9 : [[0.0], [0.0], [0.0], [0.0], [0.0], [0.0], [0.0], [0.0], [0.0]]\n"
          ]
        }
      ]
    },
    {
      "cell_type": "markdown",
      "source": [
        "## recall과 precison 조절하기"
      ],
      "metadata": {
        "id": "NDgR75c0rwht"
      }
    },
    {
      "cell_type": "code",
      "source": [
        "model = LogisticRegression() #로지스틱 회귀\n",
        "print(model.__class__.__name__,\"###\")\n",
        "model.fit(x_train_s,y_train)\n",
        "pred_test_p = model.predict_proba(x_test_s)\n",
        "pred_test_p2 = pred_test_p[:,-1].reshape(-1,1)\n",
        "\n",
        "scores=[]\n",
        "for th_value in [0.3, 0.4, 0.5, 0.6, 0.7]:\n",
        "  print(\"threshold:\",th_value)\n",
        "  binarizer = Binarizer(threshold=th_value)\n",
        "  result = binarizer.transform(pred_test_p2)\n",
        "  print(confusion_matrix(y_test,result))\n",
        "  acc = accuracy_score(y_test,result)\n",
        "  rec = recall_score(y_test,result)\n",
        "  pre = precision_score(y_test,result)\n",
        "  scores.append([acc,rec,pre])\n",
        "  print(f\"\\t적합도:{acc:.2f} 리콜:{rec:.2f} 정밀도:{pre:.2f}\")"
      ],
      "metadata": {
        "colab": {
          "base_uri": "https://localhost:8080/"
        },
        "id": "6EwQn8JEqZbp",
        "outputId": "84033150-c9fc-45c3-e271-eb5abce790cc"
      },
      "execution_count": 35,
      "outputs": [
        {
          "output_type": "stream",
          "name": "stdout",
          "text": [
            "LogisticRegression ###\n",
            "threshold: 0.3\n",
            "[[42  8]\n",
            " [ 0 93]]\n",
            "\t적합도:0.94 리콜:1.00 정밀도:0.92\n",
            "threshold: 0.4\n",
            "[[46  4]\n",
            " [ 0 93]]\n",
            "\t적합도:0.97 리콜:1.00 정밀도:0.96\n",
            "threshold: 0.5\n",
            "[[47  3]\n",
            " [ 0 93]]\n",
            "\t적합도:0.98 리콜:1.00 정밀도:0.97\n",
            "threshold: 0.6\n",
            "[[49  1]\n",
            " [ 2 91]]\n",
            "\t적합도:0.98 리콜:0.98 정밀도:0.99\n",
            "threshold: 0.7\n",
            "[[49  1]\n",
            " [ 7 86]]\n",
            "\t적합도:0.94 리콜:0.92 정밀도:0.99\n"
          ]
        }
      ]
    },
    {
      "cell_type": "code",
      "source": [
        "acc_scores = [score[0] for score in scores]\n",
        "rec_scores = [score[1] for score in scores]\n",
        "pre_scores = [score[2] for score in scores]\n",
        "fig,axs = plt.subplots(ncols=2,figsize=(10,5))\n",
        "axs[0].plot(acc_scores,label='accuracy')\n",
        "axs[0].legend()\n",
        "axs[1].plot(rec_scores,'r',label='recall')\n",
        "axs[1].plot(pre_scores,'b:',label='precision')\n",
        "axs[1].legend()\n",
        "plt.show()"
      ],
      "metadata": {
        "colab": {
          "base_uri": "https://localhost:8080/",
          "height": 445
        },
        "id": "wkkZn-c6so1g",
        "outputId": "f5bc7e1c-20a4-48fb-bdad-39f9679255cc"
      },
      "execution_count": 51,
      "outputs": [
        {
          "output_type": "display_data",
          "data": {
            "text/plain": [
              "<Figure size 1000x500 with 2 Axes>"
            ],
            "image/png": "[encoded data removed]"
          },
          "metadata": {}
        }
      ]
    },
    {
      "cell_type": "code",
      "source": [],
      "metadata": {
        "id": "38tpa5we4JFZ"
      },
      "execution_count": null,
      "outputs": []
    }
  ]
}