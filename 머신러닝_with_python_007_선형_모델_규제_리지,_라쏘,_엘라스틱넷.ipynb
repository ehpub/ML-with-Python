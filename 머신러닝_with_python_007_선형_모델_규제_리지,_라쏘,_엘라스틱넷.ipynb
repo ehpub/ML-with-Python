{
  "nbformat": 4,
  "nbformat_minor": 0,
  "metadata": {
    "colab": {
      "provenance": [],
      "authorship_tag": "ABX9TyMJgmEOHp8lfsC2lQbnam7V",
      "include_colab_link": true
    },
    "kernelspec": {
      "name": "python3",
      "display_name": "Python 3"
    },
    "language_info": {
      "name": "python"
    }
  },
  "cells": [
    {
      "cell_type": "markdown",
      "metadata": {
        "id": "view-in-github",
        "colab_type": "text"
      },
      "source": [
        "<a href=\"https://colab.research.google.com/github/ehpub/ML-with-Python/blob/main/%EB%A8%B8%EC%8B%A0%EB%9F%AC%EB%8B%9D_with_python_007_%EC%84%A0%ED%98%95_%EB%AA%A8%EB%8D%B8_%EA%B7%9C%EC%A0%9C_%EB%A6%AC%EC%A7%80%2C_%EB%9D%BC%EC%8F%98%2C_%EC%97%98%EB%9D%BC%EC%8A%A4%ED%8B%B1%EB%84%B7.ipynb\" target=\"_parent\"><img src=\"https://colab.research.google.com/assets/colab-badge.svg\" alt=\"Open In Colab\"/></a>"
      ]
    },
    {
      "cell_type": "markdown",
      "source": [
        "[설명](https://ehpub.co.kr/%ec%84%a0%ed%98%95-%eb%aa%a8%eb%8d%b8-%ea%b7%9c%ec%a0%9c-%eb%a6%ac%ec%a7%80-%eb%9d%bc%ec%8f%98-%ec%97%98%eb%9d%bc%ec%8a%a4%ed%8b%b1-%eb%84%b7-%eb%a8%b8%ec%8b%a0%eb%9f%ac%eb%8b%9d-with/)"
      ],
      "metadata": {
        "id": "_rGsC9PfHIg9"
      }
    },
    {
      "cell_type": "markdown",
      "source": [
        "## 규제\n",
        "\n",
        "선형 모델이 학습 데이터에 민감하게 학습하였을 때 오버 피팅 현상이 발생할 수 있습니다.\n",
        "\n",
        "이는 학습 데이터의 예측 결과는 좋으나 다른 데이터의 예측 결과는 나쁘게 나오는 현상을 말합니다.\n",
        "\n",
        "선형 모델에서는 규제를 통해 선형 회귀 함수에 패널티를 추가하여 이러한 현상을 줄일 수 있습니다.\n",
        "\n",
        "여기에서 패널티는 원래 선형 회귀 함수에 의한 예측값에 잡음을 넣어 왜곡시킨 값을 예측값으로 정하는 것입니다.\n",
        "\n",
        "선형 모델에서는 크게 Lasso(L1 규제), Ridge(L2 규제), 엘라스틱 넷(L1+L2 규제) 등이 있습니다."
      ],
      "metadata": {
        "id": "35X-JcKKAmNr"
      }
    },
    {
      "cell_type": "code",
      "execution_count": 11,
      "metadata": {
        "id": "oMMzCl9y9CsZ"
      },
      "outputs": [],
      "source": [
        "from sklearn.linear_model import LinearRegression #선형 회귀\n",
        "from sklearn.preprocessing import PolynomialFeatures #다항 특성\n",
        "\n",
        "from sklearn.model_selection import train_test_split #학습 및 테스트 데이터 분리\n",
        "from sklearn.metrics import r2_score #r2 결정 계수(회귀)\n",
        "from sklearn.model_selection import cross_val_score #교차 검증 점수\n",
        "\n",
        "import numpy as np\n",
        "import pandas as pd\n",
        "import matplotlib.pyplot as plt\n",
        "\n",
        "import warnings #경고\n",
        "warnings.filterwarnings('ignore') #경고 무시하기"
      ]
    },
    {
      "cell_type": "code",
      "source": [
        "path = 'https://raw.githubusercontent.com/ehpub/ML-with-Python/main/subway_air_2022.csv'\n",
        "df = pd.read_csv(path,encoding='cp949')\n",
        "df.info()"
      ],
      "metadata": {
        "colab": {
          "base_uri": "https://localhost:8080/"
        },
        "id": "Vh64NYRisq81",
        "outputId": "7d2653f5-c0ec-4db3-d675-c4a013f40e86"
      },
      "execution_count": 12,
      "outputs": [
        {
          "output_type": "stream",
          "name": "stdout",
          "text": [
            "<class 'pandas.core.frame.DataFrame'>\n",
            "RangeIndex: 263 entries, 0 to 262\n",
            "Data columns (total 9 columns):\n",
            " #   Column   Non-Null Count  Dtype  \n",
            "---  ------   --------------  -----  \n",
            " 0   연번       263 non-null    int64  \n",
            " 1   호선       263 non-null    object \n",
            " 2   역명       263 non-null    object \n",
            " 3   미세먼지     263 non-null    float64\n",
            " 4   초미세먼지    263 non-null    float64\n",
            " 5   이산화탄소    263 non-null    int64  \n",
            " 6   폼알데하이드   263 non-null    float64\n",
            " 7   일산화탄소    263 non-null    float64\n",
            " 8   데이터기준일자  263 non-null    object \n",
            "dtypes: float64(4), int64(2), object(3)\n",
            "memory usage: 18.6+ KB\n"
          ]
        }
      ]
    },
    {
      "cell_type": "code",
      "source": [
        "data = df[['미세먼지','일산화탄소','폼알데하이드','이산화탄소']].values[:50]\n",
        "target = df['초미세먼지'][:50].values\n",
        "x_train, x_test, y_train, y_test = train_test_split(data,target)\n",
        "print(y_train.shape, y_test.shape)"
      ],
      "metadata": {
        "colab": {
          "base_uri": "https://localhost:8080/"
        },
        "id": "ET_n--9nsuVL",
        "outputId": "6d9a57b9-5e1a-4621-dc0d-b44ccea5b99b"
      },
      "execution_count": 13,
      "outputs": [
        {
          "output_type": "stream",
          "name": "stdout",
          "text": [
            "(37,) (13,)\n"
          ]
        }
      ]
    },
    {
      "cell_type": "code",
      "source": [
        "d = 4\n",
        "pf = PolynomialFeatures(degree=d,include_bias=False)\n",
        "pf.fit(x_train)\n",
        "x_train_p =pf.transform(x_train)\n",
        "x_test_p =pf.transform(x_test)\n",
        "\n",
        "model = LinearRegression()\n",
        "model.fit(x_train_p,y_train)\n",
        "pred_train = model.predict(x_train_p)\n",
        "pred_test = model.predict(x_test_p)"
      ],
      "metadata": {
        "id": "OBaGbBvAsv01"
      },
      "execution_count": 14,
      "outputs": []
    },
    {
      "cell_type": "code",
      "source": [
        "df_train = pd.DataFrame(x_train,columns = ['미세먼지','일산화탄소','폼알데하이드','이산화탄소'])\n",
        "df_train['target'] = y_train\n",
        "df_train['pred'] =pred_train\n",
        "df_train = df_train.sort_values(by='target')\n",
        "df_train = df_train.reset_index()"
      ],
      "metadata": {
        "id": "yZa8Kdfxs-Ft"
      },
      "execution_count": 15,
      "outputs": []
    },
    {
      "cell_type": "code",
      "source": [
        "plt.plot(df_train['target'],'bo',label='actual')\n",
        "plt.plot(df_train['pred'],'r.',label='pred')\n",
        "plt.legend()\n",
        "plt.title(f'r2 = {r2_score(y_train,pred_train)}')\n",
        "plt.show()"
      ],
      "metadata": {
        "colab": {
          "base_uri": "https://localhost:8080/",
          "height": 452
        },
        "id": "SNlbViaztf6Q",
        "outputId": "ab572462-a0ec-43c2-c385-a80fd34ef1ba"
      },
      "execution_count": 16,
      "outputs": [
        {
          "output_type": "display_data",
          "data": {
            "text/plain": [
              "<Figure size 640x480 with 1 Axes>"
            ],
            "image/png": "[encoded data removed]"
          },
          "metadata": {}
        }
      ]
    },
    {
      "cell_type": "code",
      "source": [
        "df_test = pd.DataFrame(x_test,columns = ['미세먼지','일산화탄소','폼알데하이드','이산화탄소'])\n",
        "df_test['target'] = y_test\n",
        "df_test['pred'] =pred_test\n",
        "df_test = df_test.sort_values(by='target')\n",
        "df_test = df_test.reset_index()"
      ],
      "metadata": {
        "id": "ZY7uU1Frw2SL"
      },
      "execution_count": 17,
      "outputs": []
    },
    {
      "cell_type": "code",
      "source": [
        "plt.plot(df_test['target'],'bo',label='actual')\n",
        "plt.plot(df_test['pred'],'r.',label='pred')\n",
        "plt.legend()\n",
        "plt.title(f'r2 = {r2_score(y_test,pred_test)}')\n",
        "plt.show()"
      ],
      "metadata": {
        "colab": {
          "base_uri": "https://localhost:8080/",
          "height": 452
        },
        "id": "WL9IC9HuxGFj",
        "outputId": "30765da1-4547-41e9-8144-352bf57719b4"
      },
      "execution_count": 18,
      "outputs": [
        {
          "output_type": "display_data",
          "data": {
            "text/plain": [
              "<Figure size 640x480 with 1 Axes>"
            ],
            "image/png": "[encoded data removed]"
          },
          "metadata": {}
        }
      ]
    },
    {
      "cell_type": "markdown",
      "source": [
        "## 규제\n",
        "\n",
        "- 규제 적용하기 않은 선형 회귀 모델\n",
        "\n",
        "규제를 적용하지 않은 선형 회귀에서는 MSE(Mean Squared Error)값이 최소인 가중치(w)와 편향(b)을 찾습니다.\n",
        "\n",
        "loss function = MSE\n",
        "\n",
        "- 규제를 적용한 선형 회귀 모델\n",
        "\n",
        "규제는 MSE에 패널티(Penalty)를 부여한 값이 최소인 가중치(w)와 편향(b)을 찾습니다.\n",
        "\n",
        "loss function = MSE+Penalty\n",
        "\n",
        "- Lasso (L1 규제)\n",
        "\n",
        "패널티가 가중치 합계에 알파값을 곱한 값입니다.\n",
        "\n",
        "알파값은 패널티 규모를 정하기 위한 값으로 0이면 규제가 없는 것입니다."
      ],
      "metadata": {
        "id": "sMC71l9i7YQw"
      }
    },
    {
      "cell_type": "markdown",
      "source": [
        "![라쏘 패널티.jpg](data:image/jpeg;base64,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)"
      ],
      "metadata": {
        "id": "YEZuGkgnAXwK"
      }
    },
    {
      "cell_type": "markdown",
      "source": [
        "![라쏘 손실함수.jpg](data:image/jpeg;base64,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)"
      ],
      "metadata": {
        "id": "aa3a9r9FAbeR"
      }
    },
    {
      "cell_type": "markdown",
      "source": [
        "- Ridge (L2 규제)\n",
        "\n",
        "패널티가 가중치 제곱의 합계에 알파값을 곱한 값입니다.\n"
      ],
      "metadata": {
        "id": "e2x0A79nAdmr"
      }
    },
    {
      "cell_type": "markdown",
      "source": [
        "![리지 패널티.jpg](data:image/jpeg;base64,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)"
      ],
      "metadata": {
        "id": "PYqsMs1rAqaR"
      }
    },
    {
      "cell_type": "markdown",
      "source": [
        "![리지 손실함수.jpg](data:image/jpeg;base64,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)"
      ],
      "metadata": {
        "id": "Er807dGKAsI6"
      }
    },
    {
      "cell_type": "markdown",
      "source": [
        "- Elastic-Net (L1 + L2 규제)\n",
        "\n",
        "패널티가 라쏘와 리지의 패널티 합계입니다."
      ],
      "metadata": {
        "id": "y0LLb4kEAuGR"
      }
    },
    {
      "cell_type": "markdown",
      "source": [
        "![엘라스틱 넷 패널티.jpg](data:image/jpeg;base64,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)"
      ],
      "metadata": {
        "id": "LPHR2pugBCJj"
      }
    },
    {
      "cell_type": "markdown",
      "source": [
        "![엘라스틱 넷 손실함수.jpg](data:image/jpeg;base64,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)"
      ],
      "metadata": {
        "id": "ZlX59oZ4BEXa"
      }
    },
    {
      "cell_type": "code",
      "source": [
        "from sklearn.linear_model import Lasso #라쏘 L1규제\n",
        "from sklearn.linear_model import Ridge #릿지 L2규제\n",
        "from sklearn.linear_model import ElasticNet #엘라스틱 넷 L1+L2 규제"
      ],
      "metadata": {
        "id": "82_njiuqxQFz"
      },
      "execution_count": 19,
      "outputs": []
    },
    {
      "cell_type": "code",
      "source": [
        "d = 4\n",
        "pf = PolynomialFeatures(degree=d,include_bias=False)\n",
        "pf.fit(x_train)\n",
        "x_train_p =pf.transform(x_train)\n",
        "x_test_p =pf.transform(x_test)\n",
        "\n",
        "model = Lasso()\n",
        "model.fit(x_train_p,y_train)\n",
        "pred_train = model.predict(x_train_p)\n",
        "pred_test = model.predict(x_test_p)"
      ],
      "metadata": {
        "id": "jIGj2F2yxgLo"
      },
      "execution_count": 20,
      "outputs": []
    },
    {
      "cell_type": "code",
      "source": [
        "df_train = pd.DataFrame(x_train,columns = ['미세먼지','일산화탄소','폼알데하이드','이산화탄소'])\n",
        "df_train['target'] = y_train\n",
        "df_train['pred'] =pred_train\n",
        "df_train = df_train.sort_values(by='target')\n",
        "df_train = df_train.reset_index()"
      ],
      "metadata": {
        "id": "oNshOZ3zykC8"
      },
      "execution_count": 21,
      "outputs": []
    },
    {
      "cell_type": "code",
      "source": [
        "plt.plot(df_train['target'],'bo',label='actual')\n",
        "plt.plot(df_train['pred'],'r.',label='pred')\n",
        "plt.legend()\n",
        "plt.title(f'r2 = {r2_score(y_train,pred_train)}')\n",
        "plt.show()"
      ],
      "metadata": {
        "colab": {
          "base_uri": "https://localhost:8080/",
          "height": 452
        },
        "id": "wJQZrymJymoy",
        "outputId": "f2b582fb-c9ef-4578-f203-2148d1972c19"
      },
      "execution_count": 22,
      "outputs": [
        {
          "output_type": "display_data",
          "data": {
            "text/plain": [
              "<Figure size 640x480 with 1 Axes>"
            ],
            "image/png": "[encoded data removed]"
          },
          "metadata": {}
        }
      ]
    },
    {
      "cell_type": "code",
      "source": [
        "df_test = pd.DataFrame(x_test,columns = ['미세먼지','일산화탄소','폼알데하이드','이산화탄소'])\n",
        "df_test['target'] = y_test\n",
        "df_test['pred'] =pred_test\n",
        "df_test = df_test.sort_values(by='target')\n",
        "df_test = df_test.reset_index()"
      ],
      "metadata": {
        "id": "jCc-Je7Lyoe0"
      },
      "execution_count": 24,
      "outputs": []
    },
    {
      "cell_type": "code",
      "source": [
        "plt.plot(df_test['target'],'bo',label='actual')\n",
        "plt.plot(df_test['pred'],'r.',label='pred')\n",
        "plt.legend()\n",
        "plt.title(f'r2 = {r2_score(y_test,pred_test)}')\n",
        "plt.show()"
      ],
      "metadata": {
        "colab": {
          "base_uri": "https://localhost:8080/",
          "height": 452
        },
        "id": "dFr3Xd7Uyr4m",
        "outputId": "2bc6f777-e742-4c5e-d8bf-6cb44e9003f5"
      },
      "execution_count": 25,
      "outputs": [
        {
          "output_type": "display_data",
          "data": {
            "text/plain": [
              "<Figure size 640x480 with 1 Axes>"
            ],
            "image/png": "[encoded data removed]"
          },
          "metadata": {}
        }
      ]
    },
    {
      "cell_type": "code",
      "source": [
        "for d in [1,2,3,4]:\n",
        "  print(f\"degree={d} =======================\")\n",
        "  pf = PolynomialFeatures(degree=d,include_bias=False)\n",
        "  pf.fit(x_train)\n",
        "  x_train_p =pf.transform(x_train)\n",
        "  x_test_p =pf.transform(x_test)\n",
        "  for a in [0.001, 0.01, 0.1, 1, 2, 5, 10]:\n",
        "    print(f\"alpha={a} #######\")\n",
        "    model = Lasso(alpha=a)\n",
        "    model.fit(x_train_p,y_train)\n",
        "    pred_train = model.predict(x_train_p)\n",
        "    print(f\"학습 r2:{r2_score(y_train, pred_train):.4f}\")\n",
        "    pred_test = model.predict(x_test_p)\n",
        "    print(f\"테스트 r2:{r2_score(y_test, pred_test):.4f}\")\n",
        "  print()"
      ],
      "metadata": {
        "colab": {
          "base_uri": "https://localhost:8080/"
        },
        "id": "0_xQi_OYyuM9",
        "outputId": "c69d82f0-02cc-4d68-b55f-cc839754a8eb"
      },
      "execution_count": 26,
      "outputs": [
        {
          "output_type": "stream",
          "name": "stdout",
          "text": [
            "degree=1 =======================\n",
            "alpha=0.001 #######\n",
            "학습 r2:0.7861\n",
            "테스트 r2:0.6771\n",
            "alpha=0.01 #######\n",
            "학습 r2:0.7860\n",
            "테스트 r2:0.6817\n",
            "alpha=0.1 #######\n",
            "학습 r2:0.7800\n",
            "테스트 r2:0.7031\n",
            "alpha=1 #######\n",
            "학습 r2:0.7748\n",
            "테스트 r2:0.7446\n",
            "alpha=2 #######\n",
            "학습 r2:0.7668\n",
            "테스트 r2:0.7596\n",
            "alpha=5 #######\n",
            "학습 r2:0.7660\n",
            "테스트 r2:0.7523\n",
            "alpha=10 #######\n",
            "학습 r2:0.7632\n",
            "테스트 r2:0.7421\n",
            "\n",
            "degree=2 =======================\n",
            "alpha=0.001 #######\n",
            "학습 r2:0.8321\n",
            "테스트 r2:0.2435\n",
            "alpha=0.01 #######\n",
            "학습 r2:0.8293\n",
            "테스트 r2:0.1238\n",
            "alpha=0.1 #######\n",
            "학습 r2:0.8233\n",
            "테스트 r2:0.2528\n",
            "alpha=1 #######\n",
            "학습 r2:0.7943\n",
            "테스트 r2:0.7066\n",
            "alpha=2 #######\n",
            "학습 r2:0.7863\n",
            "테스트 r2:0.7393\n",
            "alpha=5 #######\n",
            "학습 r2:0.7851\n",
            "테스트 r2:0.7446\n",
            "alpha=10 #######\n",
            "학습 r2:0.7848\n",
            "테스트 r2:0.7489\n",
            "\n",
            "degree=3 =======================\n",
            "alpha=0.001 #######\n",
            "학습 r2:0.8498\n",
            "테스트 r2:0.5072\n",
            "alpha=0.01 #######\n",
            "학습 r2:0.8503\n",
            "테스트 r2:0.3512\n",
            "alpha=0.1 #######\n",
            "학습 r2:0.8500\n",
            "테스트 r2:0.1851\n",
            "alpha=1 #######\n",
            "학습 r2:0.8489\n",
            "테스트 r2:-0.1619\n",
            "alpha=2 #######\n",
            "학습 r2:0.8471\n",
            "테스트 r2:-0.3076\n",
            "alpha=5 #######\n",
            "학습 r2:0.8442\n",
            "테스트 r2:-0.1759\n",
            "alpha=10 #######\n",
            "학습 r2:0.8423\n",
            "테스트 r2:-0.1041\n",
            "\n",
            "degree=4 =======================\n",
            "alpha=0.001 #######\n",
            "학습 r2:0.8678\n",
            "테스트 r2:0.6138\n",
            "alpha=0.01 #######\n",
            "학습 r2:0.8686\n",
            "테스트 r2:0.5858\n",
            "alpha=0.1 #######\n",
            "학습 r2:0.8666\n",
            "테스트 r2:0.5236\n",
            "alpha=1 #######\n",
            "학습 r2:0.8644\n",
            "테스트 r2:0.2607\n",
            "alpha=2 #######\n",
            "학습 r2:0.8627\n",
            "테스트 r2:0.0716\n",
            "alpha=5 #######\n",
            "학습 r2:0.8617\n",
            "테스트 r2:0.0708\n",
            "alpha=10 #######\n",
            "학습 r2:0.8605\n",
            "테스트 r2:0.0301\n",
            "\n"
          ]
        }
      ]
    },
    {
      "cell_type": "code",
      "source": [
        "for d in [1,2,3,4]:\n",
        "  print(f\"degree={d} =======================\")\n",
        "  pf = PolynomialFeatures(degree=d,include_bias=False)\n",
        "  pf.fit(x_train)\n",
        "  x_train_p =pf.transform(x_train)\n",
        "  x_test_p =pf.transform(x_test)\n",
        "  for a in [0.001, 0.01, 0.1, 1, 2, 5, 10]:\n",
        "    print(f\"alpha={a} #######\")\n",
        "    model = Ridge(alpha=a)\n",
        "    model.fit(x_train_p,y_train)\n",
        "    pred_train = model.predict(x_train_p)\n",
        "    print(f\"학습 r2:{r2_score(y_train, pred_train):.4f}\")\n",
        "    pred_test = model.predict(x_test_p)\n",
        "    print(f\"테스트 r2:{r2_score(y_test, pred_test):.4f}\")\n",
        "  print()"
      ],
      "metadata": {
        "colab": {
          "base_uri": "https://localhost:8080/"
        },
        "id": "R5NPqfavy5PS",
        "outputId": "a3d10d21-1dc4-43fb-ea7b-c68b9c089edd"
      },
      "execution_count": 27,
      "outputs": [
        {
          "output_type": "stream",
          "name": "stdout",
          "text": [
            "degree=1 =======================\n",
            "alpha=0.001 #######\n",
            "학습 r2:0.7861\n",
            "테스트 r2:0.6767\n",
            "alpha=0.01 #######\n",
            "학습 r2:0.7861\n",
            "테스트 r2:0.6773\n",
            "alpha=0.1 #######\n",
            "학습 r2:0.7860\n",
            "테스트 r2:0.6824\n",
            "alpha=1 #######\n",
            "학습 r2:0.7834\n",
            "테스트 r2:0.6951\n",
            "alpha=2 #######\n",
            "학습 r2:0.7822\n",
            "테스트 r2:0.6978\n",
            "alpha=5 #######\n",
            "학습 r2:0.7810\n",
            "테스트 r2:0.7013\n",
            "alpha=10 #######\n",
            "학습 r2:0.7804\n",
            "테스트 r2:0.7053\n",
            "\n",
            "degree=2 =======================\n",
            "alpha=0.001 #######\n",
            "학습 r2:0.8329\n",
            "테스트 r2:0.3303\n",
            "alpha=0.01 #######\n",
            "학습 r2:0.8311\n",
            "테스트 r2:0.1267\n",
            "alpha=0.1 #######\n",
            "학습 r2:0.8297\n",
            "테스트 r2:0.1016\n",
            "alpha=1 #######\n",
            "학습 r2:0.8251\n",
            "테스트 r2:0.1813\n",
            "alpha=2 #######\n",
            "학습 r2:0.8215\n",
            "테스트 r2:0.2089\n",
            "alpha=5 #######\n",
            "학습 r2:0.8165\n",
            "테스트 r2:0.2668\n",
            "alpha=10 #######\n",
            "학습 r2:0.8133\n",
            "테스트 r2:0.3395\n",
            "\n",
            "degree=3 =======================\n",
            "alpha=0.001 #######\n",
            "학습 r2:0.9405\n",
            "테스트 r2:-10.8871\n",
            "alpha=0.01 #######\n",
            "학습 r2:0.9334\n",
            "테스트 r2:-3.2386\n",
            "alpha=0.1 #######\n",
            "학습 r2:0.9187\n",
            "테스트 r2:-0.5077\n",
            "alpha=1 #######\n",
            "학습 r2:0.8918\n",
            "테스트 r2:-0.2714\n",
            "alpha=2 #######\n",
            "학습 r2:0.8865\n",
            "테스트 r2:-0.4399\n",
            "alpha=5 #######\n",
            "학습 r2:0.8823\n",
            "테스트 r2:-0.6807\n",
            "alpha=10 #######\n",
            "학습 r2:0.8806\n",
            "테스트 r2:-0.8634\n",
            "\n",
            "degree=4 =======================\n",
            "alpha=0.001 #######\n",
            "학습 r2:0.8808\n",
            "테스트 r2:-1.2367\n",
            "alpha=0.01 #######\n",
            "학습 r2:0.8808\n",
            "테스트 r2:-1.2367\n",
            "alpha=0.1 #######\n",
            "학습 r2:0.8808\n",
            "테스트 r2:-1.2367\n",
            "alpha=1 #######\n",
            "학습 r2:0.8808\n",
            "테스트 r2:-1.2367\n",
            "alpha=2 #######\n",
            "학습 r2:0.8808\n",
            "테스트 r2:-1.2367\n",
            "alpha=5 #######\n",
            "학습 r2:0.8808\n",
            "테스트 r2:-1.2367\n",
            "alpha=10 #######\n",
            "학습 r2:0.8808\n",
            "테스트 r2:-1.2367\n",
            "\n"
          ]
        }
      ]
    },
    {
      "cell_type": "code",
      "source": [
        "for d in [1,2,3,4]:\n",
        "  print(f\"degree={d} =======================\")\n",
        "  pf = PolynomialFeatures(degree=d,include_bias=False)\n",
        "  pf.fit(x_train)\n",
        "  x_train_p =pf.transform(x_train)\n",
        "  x_test_p =pf.transform(x_test)\n",
        "  for a in [0.001, 0.01, 0.1, 1, 2, 5, 10]:\n",
        "    print(f\"alpha={a} #######\")\n",
        "    model = ElasticNet(alpha=a)\n",
        "    model.fit(x_train_p,y_train)\n",
        "    pred_train = model.predict(x_train_p)\n",
        "    print(f\"학습 r2:{r2_score(y_train, pred_train):.4f}\")\n",
        "    pred_test = model.predict(x_test_p)\n",
        "    print(f\"테스트 r2:{r2_score(y_test, pred_test):.4f}\")\n",
        "  print()"
      ],
      "metadata": {
        "colab": {
          "base_uri": "https://localhost:8080/"
        },
        "id": "yoGwkM4k3a9I",
        "outputId": "e17d2146-69ab-4b4f-a25e-d2ea7224c2ea"
      },
      "execution_count": 28,
      "outputs": [
        {
          "output_type": "stream",
          "name": "stdout",
          "text": [
            "degree=1 =======================\n",
            "alpha=0.001 #######\n",
            "학습 r2:0.7861\n",
            "테스트 r2:0.6781\n",
            "alpha=0.01 #######\n",
            "학습 r2:0.7855\n",
            "테스트 r2:0.6871\n",
            "alpha=0.1 #######\n",
            "학습 r2:0.7808\n",
            "테스트 r2:0.7015\n",
            "alpha=1 #######\n",
            "학습 r2:0.7777\n",
            "테스트 r2:0.7309\n",
            "alpha=2 #######\n",
            "학습 r2:0.7731\n",
            "테스트 r2:0.7499\n",
            "alpha=5 #######\n",
            "학습 r2:0.7665\n",
            "테스트 r2:0.7568\n",
            "alpha=10 #######\n",
            "학습 r2:0.7652\n",
            "테스트 r2:0.7486\n",
            "\n",
            "degree=2 =======================\n",
            "alpha=0.001 #######\n",
            "학습 r2:0.8302\n",
            "테스트 r2:0.1061\n",
            "alpha=0.01 #######\n",
            "학습 r2:0.8287\n",
            "테스트 r2:0.1399\n",
            "alpha=0.1 #######\n",
            "학습 r2:0.8186\n",
            "테스트 r2:0.2596\n",
            "alpha=1 #######\n",
            "학습 r2:0.8001\n",
            "테스트 r2:0.6441\n",
            "alpha=2 #######\n",
            "학습 r2:0.7930\n",
            "테스트 r2:0.7136\n",
            "alpha=5 #######\n",
            "학습 r2:0.7852\n",
            "테스트 r2:0.7422\n",
            "alpha=10 #######\n",
            "학습 r2:0.7851\n",
            "테스트 r2:0.7446\n",
            "\n",
            "degree=3 =======================\n",
            "alpha=0.001 #######\n",
            "학습 r2:0.8500\n",
            "테스트 r2:0.4249\n",
            "alpha=0.01 #######\n",
            "학습 r2:0.8504\n",
            "테스트 r2:0.3605\n",
            "alpha=0.1 #######\n",
            "학습 r2:0.8503\n",
            "테스트 r2:0.2434\n",
            "alpha=1 #######\n",
            "학습 r2:0.8498\n",
            "테스트 r2:0.0379\n",
            "alpha=2 #######\n",
            "학습 r2:0.8490\n",
            "테스트 r2:-0.1831\n",
            "alpha=5 #######\n",
            "학습 r2:0.8463\n",
            "테스트 r2:-0.2880\n",
            "alpha=10 #######\n",
            "학습 r2:0.8440\n",
            "테스트 r2:-0.1710\n",
            "\n",
            "degree=4 =======================\n",
            "alpha=0.001 #######\n",
            "학습 r2:0.8692\n",
            "테스트 r2:0.5915\n",
            "alpha=0.01 #######\n",
            "학습 r2:0.8683\n",
            "테스트 r2:0.5787\n",
            "alpha=0.1 #######\n",
            "학습 r2:0.8665\n",
            "테스트 r2:0.5602\n",
            "alpha=1 #######\n",
            "학습 r2:0.8648\n",
            "테스트 r2:0.3318\n",
            "alpha=2 #######\n",
            "학습 r2:0.8643\n",
            "테스트 r2:0.2532\n",
            "alpha=5 #######\n",
            "학습 r2:0.8625\n",
            "테스트 r2:0.0910\n",
            "alpha=10 #######\n",
            "학습 r2:0.8617\n",
            "테스트 r2:0.0695\n",
            "\n"
          ]
        }
      ]
    },
    {
      "cell_type": "markdown",
      "source": [
        "- 규제 적용 전"
      ],
      "metadata": {
        "id": "tJKIpk38FENK"
      }
    },
    {
      "cell_type": "code",
      "source": [
        "for d in [1,2,3,4]:\n",
        "  print(f\"degree={d} =======================\")\n",
        "  pf = PolynomialFeatures(degree=d,include_bias=False)\n",
        "  pf.fit(x_train)\n",
        "  x_train_p =pf.transform(x_train)\n",
        "  x_test_p =pf.transform(x_test)\n",
        "  model = LinearRegression()\n",
        "  model.fit(x_train_p,y_train)\n",
        "  pred_train = model.predict(x_train_p)\n",
        "  print(f\"학습 r2:{r2_score(y_train, pred_train):.4f}\")\n",
        "  pred_test = model.predict(x_test_p)\n",
        "  print(f\"테스트 r2:{r2_score(y_test, pred_test):.4f}\")\n",
        "  print()"
      ],
      "metadata": {
        "id": "uYgCkT4j3kNF",
        "colab": {
          "base_uri": "https://localhost:8080/"
        },
        "outputId": "350d59cb-0c88-4289-aec6-4de733798be5"
      },
      "execution_count": 30,
      "outputs": [
        {
          "output_type": "stream",
          "name": "stdout",
          "text": [
            "degree=1 =======================\n",
            "학습 r2:0.7861\n",
            "테스트 r2:0.6766\n",
            "\n",
            "degree=2 =======================\n",
            "학습 r2:0.8335\n",
            "테스트 r2:0.5068\n",
            "\n",
            "degree=3 =======================\n",
            "학습 r2:0.9967\n",
            "테스트 r2:-263.9885\n",
            "\n",
            "degree=4 =======================\n",
            "학습 r2:1.0000\n",
            "테스트 r2:-414.7134\n",
            "\n"
          ]
        }
      ]
    },
    {
      "cell_type": "code",
      "source": [],
      "metadata": {
        "id": "v3iPT3HyFBmX"
      },
      "execution_count": null,
      "outputs": []
    }
  ]
}