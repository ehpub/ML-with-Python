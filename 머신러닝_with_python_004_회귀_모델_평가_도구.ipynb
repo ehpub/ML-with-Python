{
  "nbformat": 4,
  "nbformat_minor": 0,
  "metadata": {
    "colab": {
      "provenance": [],
      "authorship_tag": "ABX9TyP6K2JULpzq6/icUxdEHm0O",
      "include_colab_link": true
    },
    "kernelspec": {
      "name": "python3",
      "display_name": "Python 3"
    },
    "language_info": {
      "name": "python"
    }
  },
  "cells": [
    {
      "cell_type": "markdown",
      "metadata": {
        "id": "view-in-github",
        "colab_type": "text"
      },
      "source": [
        "<a href=\"https://colab.research.google.com/github/ehpub/ML-with-Python/blob/main/%EB%A8%B8%EC%8B%A0%EB%9F%AC%EB%8B%9D_with_python_004_%ED%9A%8C%EA%B7%80_%EB%AA%A8%EB%8D%B8_%ED%8F%89%EA%B0%80_%EB%8F%84%EA%B5%AC.ipynb\" target=\"_parent\"><img src=\"https://colab.research.google.com/assets/colab-badge.svg\" alt=\"Open In Colab\"/></a>"
      ]
    },
    {
      "cell_type": "markdown",
      "source": [
        "[설명](https://ehpub.co.kr/%ed%9a%8c%ea%b7%80-%eb%aa%a8%eb%8d%b8-%ed%8f%89%ea%b0%80-%eb%8f%84%ea%b5%ac-%eb%a8%b8%ec%8b%a0%eb%9f%ac%eb%8b%9d-with-%ed%8c%8c%ec%9d%b4%ec%8d%ac/)"
      ],
      "metadata": {
        "id": "M06Ka4h5P5zf"
      }
    },
    {
      "cell_type": "code",
      "source": [
        "from sklearn.metrics import r2_score #r2 결정 계수(회귀)\n",
        "from sklearn.metrics import mean_absolute_error #평균 절대 오차\n",
        "from sklearn.metrics import mean_squared_error #평균 제곱 오차\n",
        "from sklearn.metrics import mean_absolute_percentage_error #평균 절대 퍼센트 오차\n",
        "from sklearn.model_selection import cross_val_score #교차 검증 점수\n",
        "\n",
        "from sklearn.linear_model import LinearRegression #선형 회귀\n",
        "from sklearn.svm import SVR #서포트 벡터 머신 회귀\n",
        "from sklearn.neighbors import KNeighborsRegressor #K 최근접 이웃 회귀\n",
        "from sklearn.tree import DecisionTreeRegressor #결정 트리 회귀\n",
        "from sklearn.ensemble import RandomForestRegressor #랜덤 포리스트 회귀\n",
        "from sklearn.datasets import load_diabetes #당뇨병 환자 데이터 로드\n",
        "from sklearn.model_selection import train_test_split #학습 및 테스트 데이터 분리\n",
        "from sklearn.preprocessing import MinMaxScaler\n",
        "\n",
        "import numpy as np\n",
        "import pandas as pd\n",
        "import matplotlib.pyplot as plt"
      ],
      "metadata": {
        "id": "aIZ9sFQvjYmW"
      },
      "execution_count": 2,
      "outputs": []
    },
    {
      "cell_type": "markdown",
      "source": [
        "## 회귀 모델 평가 도구\n",
        "\n",
        "- R2 결정 계수\n",
        "\n",
        "sklearn.metrics.r2_score(y_true, y_pred, *, sample_weight=None, multioutput='uniform_average', force_finite=True)\n",
        "\n",
        "[r2_score](https://scikit-learn.org/stable/modules/generated/sklearn.metrics.r2_score.html)\n",
        "\n",
        "- MAE\n",
        "\n",
        "sklearn.metrics.mean_absolute_error(y_true, y_pred, *, sample_weight=None, multioutput='uniform_average')\n",
        "\n",
        "[mean_absolute_error](https://scikit-learn.org/stable/modules/generated/sklearn.metrics.mean_absolute_error.html)\n",
        "\n",
        "- MSE\n",
        "\n",
        "sklearn.metrics.mean_squared_error(y_true, y_pred, *, sample_weight=None, multioutput='uniform_average', squared=True)\n",
        "\n",
        "[mean_squared_error](https://scikit-learn.org/stable/modules/generated/sklearn.metrics.mean_squared_error.html#sklearn.metrics.mean_squared_error)\n",
        "\n",
        "- MAPE\n",
        "\n",
        "sklearn.metrics.mean_absolute_percentage_error(y_true, y_pred, *, sample_weight=None, multioutput='uniform_average')\n",
        "\n",
        "[mean_absolute_percentage_error](https://scikit-learn.org/stable/modules/generated/sklearn.metrics.mean_absolute_percentage_error.html#sklearn.metrics.mean_absolute_percentage_error)"
      ],
      "metadata": {
        "id": "o5AuvQWPixyo"
      }
    },
    {
      "cell_type": "code",
      "execution_count": 3,
      "metadata": {
        "id": "l-dBsSvYirS-"
      },
      "outputs": [],
      "source": [
        "predict = np.array([172, 188, 177, 165, 171])\n",
        "actual = np.array([170, 183, 176, 162,174])"
      ]
    },
    {
      "cell_type": "code",
      "source": [
        "plt.plot(actual, 'ro',label='actual')\n",
        "plt.plot(predict,'gs',label='predict')\n",
        "plt.ylim(0,200)\n",
        "plt.legend()\n",
        "plt.suptitle('actual,predict')\n",
        "plt.show()"
      ],
      "metadata": {
        "colab": {
          "base_uri": "https://localhost:8080/",
          "height": 478
        },
        "id": "PLVk1ci82rek",
        "outputId": "ef4ddf0d-a499-43f4-cb3b-379dd344355c"
      },
      "execution_count": 21,
      "outputs": [
        {
          "output_type": "display_data",
          "data": {
            "text/plain": [
              "<Figure size 640x480 with 1 Axes>"
            ],
            "image/png": "[encoded data removed]"
          },
          "metadata": {}
        }
      ]
    },
    {
      "cell_type": "markdown",
      "source": [
        "### MAE\n",
        "\n",
        "평균 절대 오차로 실제 값과 예측 값의 차이의 부호를 없애기 위해 절대값을 취합니다.\n",
        "\n",
        "그러한 오차의 절대값의 평균을 내는 것이 MAE(mean absolute error) 입니다.\n",
        "\n",
        "![MAE.jpg](data:image/jpeg;base64,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)\n"
      ],
      "metadata": {
        "id": "aoQjq4PatZoT"
      }
    },
    {
      "cell_type": "markdown",
      "source": [
        "sklearn.metrics.mean_absolute_error(y_true, y_pred, *, sample_weight=None, multioutput='uniform_average')\n",
        "\n",
        "[mean_absolute_error](https://scikit-learn.org/stable/modules/generated/sklearn.metrics.mean_absolute_error.html)"
      ],
      "metadata": {
        "id": "GFQvglh5wDmj"
      }
    },
    {
      "cell_type": "code",
      "source": [
        "def mean_absolute_error_m(actual,predict):\n",
        "  return (np.abs(predict-actual)).mean()"
      ],
      "metadata": {
        "id": "T4MxhaUKuves"
      },
      "execution_count": 4,
      "outputs": []
    },
    {
      "cell_type": "code",
      "source": [
        "print(f'mae:{mean_absolute_error_m(actual, predict):.3f}')\n",
        "print(f'mae:{mean_absolute_error(actual, predict):.3f}')"
      ],
      "metadata": {
        "colab": {
          "base_uri": "https://localhost:8080/"
        },
        "id": "lV4fi622uhW0",
        "outputId": "e7aee1f7-5a26-46f7-848c-0c212772c14a"
      },
      "execution_count": 5,
      "outputs": [
        {
          "output_type": "stream",
          "name": "stdout",
          "text": [
            "mae:2.800\n",
            "mae:2.800\n"
          ]
        }
      ]
    },
    {
      "cell_type": "markdown",
      "source": [
        "### MSE\n",
        "\n",
        "오차(실제 값과 예측 값의 차이)를 제곱을 취한 후 평균을 낸 값입니다.\n",
        "\n",
        "![MSE.jpg](data:image/jpeg;base64,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)"
      ],
      "metadata": {
        "id": "mI5D2QAEvK-j"
      }
    },
    {
      "cell_type": "markdown",
      "source": [
        "sklearn.metrics.mean_squared_error(y_true, y_pred, *, sample_weight=None, multioutput='uniform_average', squared=True)\n",
        "\n",
        "[mean_squared_error]https://scikit-learn.org/stable/modules/generated/sklearn.metrics.mean_squared_error.html)"
      ],
      "metadata": {
        "id": "PP78apo_wINs"
      }
    },
    {
      "cell_type": "code",
      "source": [
        "def mean_squared_error_m(actual,predict):\n",
        "  return ((predict-actual)**2).mean()"
      ],
      "metadata": {
        "id": "8GfX3OUtv3E0"
      },
      "execution_count": null,
      "outputs": []
    },
    {
      "cell_type": "code",
      "source": [
        "print(f'mse:{mean_squared_error_m(actual, predict):.3f}')\n",
        "print(f'mse:{mean_squared_error(actual, predict):.3f}')"
      ],
      "metadata": {
        "colab": {
          "base_uri": "https://localhost:8080/"
        },
        "id": "WhefEAK0wNKb",
        "outputId": "f7b16e64-0d7e-456a-c713-03dacb68198b"
      },
      "execution_count": null,
      "outputs": [
        {
          "output_type": "stream",
          "name": "stdout",
          "text": [
            "mse:9.600\n",
            "mse:9.600\n"
          ]
        }
      ]
    },
    {
      "cell_type": "markdown",
      "source": [
        "### MAPE\n",
        "\n",
        "\n",
        "오차(실제값과 예측값)의 절대값을 실제값으로 나눈 비율의 평균입니다.\n",
        "\n",
        "![MAPE.jpg](data:image/jpeg;base64,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)"
      ],
      "metadata": {
        "id": "tcfGSsIjw1XE"
      }
    },
    {
      "cell_type": "markdown",
      "source": [
        "sklearn.metrics.mean_absolute_percentage_error(y_true, y_pred, *, sample_weight=None, multioutput='uniform_average')\n",
        "\n",
        "[mean_absolute_percentage_error](https://scikit-learn.org/stable/modules/generated/sklearn.metrics.mean_absolute_percentage_error.html#sklearn.metrics.mean_absolute_percentage_error)"
      ],
      "metadata": {
        "id": "hbiW4l2Vw_1E"
      }
    },
    {
      "cell_type": "code",
      "source": [
        "def mean_absolute_percentage_error_m(actual,predict):\n",
        "  return np.abs(((predict-actual)/actual)).mean()"
      ],
      "metadata": {
        "id": "kThEak7zyLWu"
      },
      "execution_count": null,
      "outputs": []
    },
    {
      "cell_type": "code",
      "source": [
        "print(f'mape:{mean_absolute_percentage_error_m(actual, predict):.3f}')\n",
        "print(f'mape:{mean_absolute_percentage_error(actual, predict):.3f}')"
      ],
      "metadata": {
        "colab": {
          "base_uri": "https://localhost:8080/"
        },
        "id": "g1xGId-2yPzd",
        "outputId": "e041f503-4838-456a-a4de-1ee2124734f8"
      },
      "execution_count": null,
      "outputs": [
        {
          "output_type": "stream",
          "name": "stdout",
          "text": [
            "mape:0.016\n",
            "mape:0.016\n"
          ]
        }
      ]
    },
    {
      "cell_type": "markdown",
      "source": [
        "### R2 결정 계수\n",
        "\n"
      ],
      "metadata": {
        "id": "mFqV5XYWyFl1"
      }
    },
    {
      "cell_type": "markdown",
      "source": [
        "sklearn.metrics.r2_score(y_true, y_pred, *, sample_weight=None, multioutput='uniform_average', force_finite=True)\n",
        "\n",
        "r2_score"
      ],
      "metadata": {
        "id": "cQY2U3yjyCSu"
      }
    },
    {
      "cell_type": "code",
      "source": [
        "def sst(actual):\n",
        "  am = actual.mean()\n",
        "  return ((actual-am)**2).sum()"
      ],
      "metadata": {
        "id": "798npinQCQ8S"
      },
      "execution_count": 24,
      "outputs": []
    },
    {
      "cell_type": "code",
      "source": [
        "print(f\"sst:{sst(actual)}\")"
      ],
      "metadata": {
        "colab": {
          "base_uri": "https://localhost:8080/"
        },
        "id": "ItHIuRSfCZL6",
        "outputId": "8073385d-d777-4991-e758-555846d62e06"
      },
      "execution_count": 25,
      "outputs": [
        {
          "output_type": "stream",
          "name": "stdout",
          "text": [
            "sst:240.0\n"
          ]
        }
      ]
    },
    {
      "cell_type": "code",
      "source": [
        "def ssr(actual, predict):\n",
        "  return ((actual-predict)**2).sum()"
      ],
      "metadata": {
        "id": "4GXiJ6w9nBuX"
      },
      "execution_count": 26,
      "outputs": []
    },
    {
      "cell_type": "code",
      "source": [
        "print(f\"ssr:{ssr(actual, predict)}\")"
      ],
      "metadata": {
        "colab": {
          "base_uri": "https://localhost:8080/"
        },
        "id": "jYcW2awZpH1V",
        "outputId": "c9093964-6e5f-436d-cbe0-05275dfdb792"
      },
      "execution_count": 27,
      "outputs": [
        {
          "output_type": "stream",
          "name": "stdout",
          "text": [
            "ssr:48\n"
          ]
        }
      ]
    },
    {
      "cell_type": "code",
      "source": [
        "def sse(actual,predict):\n",
        "  return((predict-actual.mean())**2).sum()"
      ],
      "metadata": {
        "id": "hB8mnpF5FQ5y"
      },
      "execution_count": 28,
      "outputs": []
    },
    {
      "cell_type": "code",
      "source": [
        "print(f\"sse:{sse(actual, predict)}\")"
      ],
      "metadata": {
        "colab": {
          "base_uri": "https://localhost:8080/"
        },
        "id": "N-EQr3wJFivW",
        "outputId": "154bf132-3f8a-4eb5-f189-d1a713c44c75"
      },
      "execution_count": 35,
      "outputs": [
        {
          "output_type": "stream",
          "name": "stdout",
          "text": [
            "sse:310.0\n"
          ]
        }
      ]
    },
    {
      "cell_type": "code",
      "source": [
        "def r2_score_m(actual, predict):\n",
        "  return sse(actual, predict)/sst(actual)"
      ],
      "metadata": {
        "id": "BnDZru4mFnDr"
      },
      "execution_count": 36,
      "outputs": []
    },
    {
      "cell_type": "code",
      "source": [
        "def r2_score_m2(actual, predict):\n",
        "  return 1 - ssr(actual, predict)/sst(actual)"
      ],
      "metadata": {
        "id": "4TFjhst4nRb-"
      },
      "execution_count": 37,
      "outputs": []
    },
    {
      "cell_type": "code",
      "source": [
        "print(f'r2:{r2_score_m(actual, predict):.3f}')\n",
        "print(f'r2:{r2_score_m2(actual, predict):.3f}')\n",
        "print(f'r2:{r2_score(actual, predict):.3f}')"
      ],
      "metadata": {
        "colab": {
          "base_uri": "https://localhost:8080/"
        },
        "id": "4YwFknwMnZ9d",
        "outputId": "f14a6f98-755d-4bab-af29-723d855e21ea"
      },
      "execution_count": 38,
      "outputs": [
        {
          "output_type": "stream",
          "name": "stdout",
          "text": [
            "r2:1.292\n",
            "r2:0.800\n",
            "r2:0.800\n"
          ]
        }
      ]
    },
    {
      "cell_type": "markdown",
      "source": [
        "## 회귀 모델 학습 및 평가"
      ],
      "metadata": {
        "id": "cVQ5CInxtABw"
      }
    },
    {
      "cell_type": "code",
      "source": [
        "df = pd.read_csv('https://raw.githubusercontent.com/ehpub/ML-with-Python/main/industrial.csv')\n",
        "display(df.head(3))"
      ],
      "metadata": {
        "id": "74g_RH5mpShZ",
        "colab": {
          "base_uri": "https://localhost:8080/",
          "height": 143
        },
        "outputId": "d9869fba-6df1-4a13-aa2d-08ee3cc796c2"
      },
      "execution_count": 39,
      "outputs": [
        {
          "output_type": "display_data",
          "data": {
            "text/plain": [
              "   시군  단지명  전체면적  입주업체  가동업체     생산    인원수\n",
              "0  19  341   123   196   196  30000   1521\n",
              "1   3  227   729   200   131      0  38873\n",
              "2   1   63    27     0     0      0      0"
            ],
            "text/html": [
              "\n",
              "\n",
              "  <div id=\"df-001697ca-4152-4f64-9315-49810341f551\">\n",
              "    <div class=\"colab-df-container\">\n",
              "      <div>\n",
              "<style scoped>\n",
              "    .dataframe tbody tr th:only-of-type {\n",
              "        vertical-align: middle;\n",
              "    }\n",
              "\n",
              "    .dataframe tbody tr th {\n",
              "        vertical-align: top;\n",
              "    }\n",
              "\n",
              "    .dataframe thead th {\n",
              "        text-align: right;\n",
              "    }\n",
              "</style>\n",
              "<table border=\"1\" class=\"dataframe\">\n",
              "  <thead>\n",
              "    <tr style=\"text-align: right;\">\n",
              "      <th></th>\n",
              "      <th>시군</th>\n",
              "      <th>단지명</th>\n",
              "      <th>전체면적</th>\n",
              "      <th>입주업체</th>\n",
              "      <th>가동업체</th>\n",
              "      <th>생산</th>\n",
              "      <th>인원수</th>\n",
              "    </tr>\n",
              "  </thead>\n",
              "  <tbody>\n",
              "    <tr>\n",
              "      <th>0</th>\n",
              "      <td>19</td>\n",
              "      <td>341</td>\n",
              "      <td>123</td>\n",
              "      <td>196</td>\n",
              "      <td>196</td>\n",
              "      <td>30000</td>\n",
              "      <td>1521</td>\n",
              "    </tr>\n",
              "    <tr>\n",
              "      <th>1</th>\n",
              "      <td>3</td>\n",
              "      <td>227</td>\n",
              "      <td>729</td>\n",
              "      <td>200</td>\n",
              "      <td>131</td>\n",
              "      <td>0</td>\n",
              "      <td>38873</td>\n",
              "    </tr>\n",
              "    <tr>\n",
              "      <th>2</th>\n",
              "      <td>1</td>\n",
              "      <td>63</td>\n",
              "      <td>27</td>\n",
              "      <td>0</td>\n",
              "      <td>0</td>\n",
              "      <td>0</td>\n",
              "      <td>0</td>\n",
              "    </tr>\n",
              "  </tbody>\n",
              "</table>\n",
              "</div>\n",
              "      <button class=\"colab-df-convert\" onclick=\"convertToInteractive('df-001697ca-4152-4f64-9315-49810341f551')\"\n",
              "              title=\"Convert this dataframe to an interactive table.\"\n",
              "              style=\"display:none;\">\n",
              "\n",
              "  <svg xmlns=\"http://www.w3.org/2000/svg\" height=\"24px\"viewBox=\"0 0 24 24\"\n",
              "       width=\"24px\">\n",
              "    <path d=\"M0 0h24v24H0V0z\" fill=\"none\"/>\n",
              "    <path d=\"M18.56 5.44l.94 2.06.94-2.06 2.06-.94-2.06-.94-.94-2.06-.94 2.06-2.06.94zm-11 1L8.5 8.5l.94-2.06 2.06-.94-2.06-.94L8.5 2.5l-.94 2.06-2.06.94zm10 10l.94 2.06.94-2.06 2.06-.94-2.06-.94-.94-2.06-.94 2.06-2.06.94z\"/><path d=\"M17.41 7.96l-1.37-1.37c-.4-.4-.92-.59-1.43-.59-.52 0-1.04.2-1.43.59L10.3 9.45l-7.72 7.72c-.78.78-.78 2.05 0 2.83L4 21.41c.39.39.9.59 1.41.59.51 0 1.02-.2 1.41-.59l7.78-7.78 2.81-2.81c.8-.78.8-2.07 0-2.86zM5.41 20L4 18.59l7.72-7.72 1.47 1.35L5.41 20z\"/>\n",
              "  </svg>\n",
              "      </button>\n",
              "\n",
              "\n",
              "\n",
              "    <div id=\"df-02160348-f692-4cdc-9cac-07378eb90ec7\">\n",
              "      <button class=\"colab-df-quickchart\" onclick=\"quickchart('df-02160348-f692-4cdc-9cac-07378eb90ec7')\"\n",
              "              title=\"Suggest charts.\"\n",
              "              style=\"display:none;\">\n",
              "\n",
              "<svg xmlns=\"http://www.w3.org/2000/svg\" height=\"24px\"viewBox=\"0 0 24 24\"\n",
              "     width=\"24px\">\n",
              "    <g>\n",
              "        <path d=\"M19 3H5c-1.1 0-2 .9-2 2v14c0 1.1.9 2 2 2h14c1.1 0 2-.9 2-2V5c0-1.1-.9-2-2-2zM9 17H7v-7h2v7zm4 0h-2V7h2v10zm4 0h-2v-4h2v4z\"/>\n",
              "    </g>\n",
              "</svg>\n",
              "      </button>\n",
              "    </div>\n",
              "\n",
              "<style>\n",
              "  .colab-df-quickchart {\n",
              "    background-color: #E8F0FE;\n",
              "    border: none;\n",
              "    border-radius: 50%;\n",
              "    cursor: pointer;\n",
              "    display: none;\n",
              "    fill: #1967D2;\n",
              "    height: 32px;\n",
              "    padding: 0 0 0 0;\n",
              "    width: 32px;\n",
              "  }\n",
              "\n",
              "  .colab-df-quickchart:hover {\n",
              "    background-color: #E2EBFA;\n",
              "    box-shadow: 0px 1px 2px rgba(60, 64, 67, 0.3), 0px 1px 3px 1px rgba(60, 64, 67, 0.15);\n",
              "    fill: #174EA6;\n",
              "  }\n",
              "\n",
              "  [theme=dark] .colab-df-quickchart {\n",
              "    background-color: #3B4455;\n",
              "    fill: #D2E3FC;\n",
              "  }\n",
              "\n",
              "  [theme=dark] .colab-df-quickchart:hover {\n",
              "    background-color: #434B5C;\n",
              "    box-shadow: 0px 1px 3px 1px rgba(0, 0, 0, 0.15);\n",
              "    filter: drop-shadow(0px 1px 2px rgba(0, 0, 0, 0.3));\n",
              "    fill: #FFFFFF;\n",
              "  }\n",
              "</style>\n",
              "\n",
              "    <script>\n",
              "      async function quickchart(key) {\n",
              "        const containerElement = document.querySelector('#' + key);\n",
              "        const charts = await google.colab.kernel.invokeFunction(\n",
              "            'suggestCharts', [key], {});\n",
              "      }\n",
              "    </script>\n",
              "\n",
              "      <script>\n",
              "\n",
              "function displayQuickchartButton(domScope) {\n",
              "  let quickchartButtonEl =\n",
              "    domScope.querySelector('#df-02160348-f692-4cdc-9cac-07378eb90ec7 button.colab-df-quickchart');\n",
              "  quickchartButtonEl.style.display =\n",
              "    google.colab.kernel.accessAllowed ? 'block' : 'none';\n",
              "}\n",
              "\n",
              "        displayQuickchartButton(document);\n",
              "      </script>\n",
              "      <style>\n",
              "    .colab-df-container {\n",
              "      display:flex;\n",
              "      flex-wrap:wrap;\n",
              "      gap: 12px;\n",
              "    }\n",
              "\n",
              "    .colab-df-convert {\n",
              "      background-color: #E8F0FE;\n",
              "      border: none;\n",
              "      border-radius: 50%;\n",
              "      cursor: pointer;\n",
              "      display: none;\n",
              "      fill: #1967D2;\n",
              "      height: 32px;\n",
              "      padding: 0 0 0 0;\n",
              "      width: 32px;\n",
              "    }\n",
              "\n",
              "    .colab-df-convert:hover {\n",
              "      background-color: #E2EBFA;\n",
              "      box-shadow: 0px 1px 2px rgba(60, 64, 67, 0.3), 0px 1px 3px 1px rgba(60, 64, 67, 0.15);\n",
              "      fill: #174EA6;\n",
              "    }\n",
              "\n",
              "    [theme=dark] .colab-df-convert {\n",
              "      background-color: #3B4455;\n",
              "      fill: #D2E3FC;\n",
              "    }\n",
              "\n",
              "    [theme=dark] .colab-df-convert:hover {\n",
              "      background-color: #434B5C;\n",
              "      box-shadow: 0px 1px 3px 1px rgba(0, 0, 0, 0.15);\n",
              "      filter: drop-shadow(0px 1px 2px rgba(0, 0, 0, 0.3));\n",
              "      fill: #FFFFFF;\n",
              "    }\n",
              "  </style>\n",
              "\n",
              "      <script>\n",
              "        const buttonEl =\n",
              "          document.querySelector('#df-001697ca-4152-4f64-9315-49810341f551 button.colab-df-convert');\n",
              "        buttonEl.style.display =\n",
              "          google.colab.kernel.accessAllowed ? 'block' : 'none';\n",
              "\n",
              "        async function convertToInteractive(key) {\n",
              "          const element = document.querySelector('#df-001697ca-4152-4f64-9315-49810341f551');\n",
              "          const dataTable =\n",
              "            await google.colab.kernel.invokeFunction('convertToInteractive',\n",
              "                                                     [key], {});\n",
              "          if (!dataTable) return;\n",
              "\n",
              "          const docLinkHtml = 'Like what you see? Visit the ' +\n",
              "            '<a target=\"_blank\" href=https://colab.research.google.com/notebooks/data_table.ipynb>data table notebook</a>'\n",
              "            + ' to learn more about interactive tables.';\n",
              "          element.innerHTML = '';\n",
              "          dataTable['output_type'] = 'display_data';\n",
              "          await google.colab.output.renderOutput(dataTable, element);\n",
              "          const docLink = document.createElement('div');\n",
              "          docLink.innerHTML = docLinkHtml;\n",
              "          element.appendChild(docLink);\n",
              "        }\n",
              "      </script>\n",
              "    </div>\n",
              "  </div>\n"
            ]
          },
          "metadata": {}
        }
      ]
    },
    {
      "cell_type": "code",
      "source": [
        "data = df.drop('생산',axis=1)\n",
        "target = df['생산']"
      ],
      "metadata": {
        "id": "McLe5JgStG4L"
      },
      "execution_count": null,
      "outputs": []
    },
    {
      "cell_type": "code",
      "source": [
        "x_train,x_test, y_train,y_test = train_test_split(data,target)"
      ],
      "metadata": {
        "id": "-Lz30KYh02vo"
      },
      "execution_count": null,
      "outputs": []
    },
    {
      "cell_type": "code",
      "source": [
        "models = []\n",
        "models.append(LinearRegression()) #선형 회귀 모델\n",
        "models.append(SVR())  #서포트 벡터 머신\n",
        "models.append(KNeighborsRegressor()) #K 최근접 이웃\n",
        "models.append(DecisionTreeRegressor()) #결정 트리\n",
        "models.append(RandomForestRegressor()) #랜덤 포레스트\n",
        "for model in models:\n",
        "  print(model.__class__.__name__,\"###\")\n",
        "  eval_scores = cross_val_score(model,x_train, y_train)\n",
        "  print(f\"교차 검증 평가 점수 평균:{eval_scores.mean():.3f}\")"
      ],
      "metadata": {
        "colab": {
          "base_uri": "https://localhost:8080/"
        },
        "id": "kYbECoal0mSz",
        "outputId": "ef4f40fd-03f8-4adf-b4bc-dc3eba524885"
      },
      "execution_count": null,
      "outputs": [
        {
          "output_type": "stream",
          "name": "stdout",
          "text": [
            "LinearRegression ###\n",
            "교차 검증 평가 점수 평균:0.319\n",
            "SVR ###\n",
            "교차 검증 평가 점수 평균:-0.115\n",
            "KNeighborsRegressor ###\n",
            "교차 검증 평가 점수 평균:0.072\n",
            "DecisionTreeRegressor ###\n",
            "교차 검증 평가 점수 평균:0.211\n",
            "RandomForestRegressor ###\n",
            "교차 검증 평가 점수 평균:0.338\n"
          ]
        }
      ]
    },
    {
      "cell_type": "code",
      "source": [
        "model = models[4]\n",
        "print(model.__class__.__name__,\"###\")\n",
        "model.fit(x_train,y_train)\n",
        "predict = model.predict(x_test)\n",
        "print(f\"r2 결정 계수:{r2_score(y_test,predict):.3f}\")"
      ],
      "metadata": {
        "colab": {
          "base_uri": "https://localhost:8080/"
        },
        "id": "RKJ2Zlcg4FfD",
        "outputId": "224120c9-d0c0-43bc-8109-3cda25d4ba95"
      },
      "execution_count": null,
      "outputs": [
        {
          "output_type": "stream",
          "name": "stdout",
          "text": [
            "RandomForestRegressor ###\n",
            "r2 결정 계수:0.181\n"
          ]
        }
      ]
    },
    {
      "cell_type": "code",
      "source": [
        "mms = MinMaxScaler()\n",
        "mms.fit(x_train)\n",
        "x_train2 =  mms.transform(x_train)\n",
        "x_test2 =  mms.transform(x_test)"
      ],
      "metadata": {
        "id": "Shm_hwFk5ZSB"
      },
      "execution_count": null,
      "outputs": []
    },
    {
      "cell_type": "code",
      "source": [
        "models = []\n",
        "models.append(LinearRegression())\n",
        "models.append(SVR())\n",
        "models.append(KNeighborsRegressor())\n",
        "models.append(DecisionTreeRegressor())\n",
        "models.append(RandomForestRegressor())\n",
        "for model in models:\n",
        "  print(model.__class__.__name__,\"###\")\n",
        "  eval_scores = cross_val_score(model,x_train2, y_train)\n",
        "  print(f\"교차 검증 평가 점수 평균:{eval_scores.mean():.3f}\")"
      ],
      "metadata": {
        "colab": {
          "base_uri": "https://localhost:8080/"
        },
        "id": "uAgbsIdK3qqY",
        "outputId": "e63fe5bb-fe8c-4397-ad76-976e7783eba3"
      },
      "execution_count": null,
      "outputs": [
        {
          "output_type": "stream",
          "name": "stdout",
          "text": [
            "LinearRegression ###\n",
            "교차 검증 평가 점수 평균:0.319\n",
            "SVR ###\n",
            "교차 검증 평가 점수 평균:-0.115\n",
            "KNeighborsRegressor ###\n",
            "교차 검증 평가 점수 평균:0.017\n",
            "DecisionTreeRegressor ###\n",
            "교차 검증 평가 점수 평균:-0.628\n",
            "RandomForestRegressor ###\n",
            "교차 검증 평가 점수 평균:0.323\n"
          ]
        }
      ]
    },
    {
      "cell_type": "code",
      "source": [
        "model = models[4]\n",
        "print(model.__class__.__name__,\"###\")\n",
        "model.fit(x_train2,y_train)\n",
        "predict = model.predict(x_test2)\n",
        "print(f\"r2 결정 계수:{r2_score(y_test,predict):.3f}\")"
      ],
      "metadata": {
        "colab": {
          "base_uri": "https://localhost:8080/"
        },
        "id": "4MbOBb3b5THx",
        "outputId": "6070be54-a4f8-43cd-ce0f-b27608004885"
      },
      "execution_count": null,
      "outputs": [
        {
          "output_type": "stream",
          "name": "stdout",
          "text": [
            "RandomForestRegressor ###\n",
            "r2 결정 계수:0.112\n"
          ]
        }
      ]
    },
    {
      "cell_type": "code",
      "source": [],
      "metadata": {
        "id": "RJuINxo-5cQf"
      },
      "execution_count": null,
      "outputs": []
    }
  ]
}